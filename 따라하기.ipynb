{
 "cells": [
  {
   "cell_type": "code",
   "execution_count": 2,
   "metadata": {
    "collapsed": true
   },
   "outputs": [
    {
     "data": {
      "text/plain": "              Player Pos   3P   2P   TRB  AST  STL  BLK\n0       Alex Abrines  SG  1.4  0.6   1.3  0.6  0.5  0.1\n1       Steven Adams   C  0.0  4.7   7.7  1.1  1.1  1.0\n2      Alexis Ajinca   C  0.0  2.3   4.5  0.3  0.5  0.6\n3     Chris Andersen   C  0.0  0.8   2.6  0.4  0.4  0.6\n4        Will Barton  SG  1.5  3.5   4.3  3.4  0.8  0.5\n..               ...  ..  ...  ...   ...  ...  ...  ...\n95    Nikola Vucevic   C  0.3  6.1  10.4  2.8  1.0  1.0\n96       Dwyane Wade  SG  0.8  6.2   4.5  3.8  1.4  0.7\n97      Dion Waiters  SG  1.8  4.3   3.3  4.3  0.9  0.4\n98  Hassan Whiteside   C  0.0  7.0  14.1  0.7  0.7  2.1\n99      Lou Williams  SG  2.0  3.3   2.5  3.0  1.0  0.2\n\n[100 rows x 8 columns]",
      "text/html": "<div>\n<style scoped>\n    .dataframe tbody tr th:only-of-type {\n        vertical-align: middle;\n    }\n\n    .dataframe tbody tr th {\n        vertical-align: top;\n    }\n\n    .dataframe thead th {\n        text-align: right;\n    }\n</style>\n<table border=\"1\" class=\"dataframe\">\n  <thead>\n    <tr style=\"text-align: right;\">\n      <th></th>\n      <th>Player</th>\n      <th>Pos</th>\n      <th>3P</th>\n      <th>2P</th>\n      <th>TRB</th>\n      <th>AST</th>\n      <th>STL</th>\n      <th>BLK</th>\n    </tr>\n  </thead>\n  <tbody>\n    <tr>\n      <th>0</th>\n      <td>Alex Abrines</td>\n      <td>SG</td>\n      <td>1.4</td>\n      <td>0.6</td>\n      <td>1.3</td>\n      <td>0.6</td>\n      <td>0.5</td>\n      <td>0.1</td>\n    </tr>\n    <tr>\n      <th>1</th>\n      <td>Steven Adams</td>\n      <td>C</td>\n      <td>0.0</td>\n      <td>4.7</td>\n      <td>7.7</td>\n      <td>1.1</td>\n      <td>1.1</td>\n      <td>1.0</td>\n    </tr>\n    <tr>\n      <th>2</th>\n      <td>Alexis Ajinca</td>\n      <td>C</td>\n      <td>0.0</td>\n      <td>2.3</td>\n      <td>4.5</td>\n      <td>0.3</td>\n      <td>0.5</td>\n      <td>0.6</td>\n    </tr>\n    <tr>\n      <th>3</th>\n      <td>Chris Andersen</td>\n      <td>C</td>\n      <td>0.0</td>\n      <td>0.8</td>\n      <td>2.6</td>\n      <td>0.4</td>\n      <td>0.4</td>\n      <td>0.6</td>\n    </tr>\n    <tr>\n      <th>4</th>\n      <td>Will Barton</td>\n      <td>SG</td>\n      <td>1.5</td>\n      <td>3.5</td>\n      <td>4.3</td>\n      <td>3.4</td>\n      <td>0.8</td>\n      <td>0.5</td>\n    </tr>\n    <tr>\n      <th>...</th>\n      <td>...</td>\n      <td>...</td>\n      <td>...</td>\n      <td>...</td>\n      <td>...</td>\n      <td>...</td>\n      <td>...</td>\n      <td>...</td>\n    </tr>\n    <tr>\n      <th>95</th>\n      <td>Nikola Vucevic</td>\n      <td>C</td>\n      <td>0.3</td>\n      <td>6.1</td>\n      <td>10.4</td>\n      <td>2.8</td>\n      <td>1.0</td>\n      <td>1.0</td>\n    </tr>\n    <tr>\n      <th>96</th>\n      <td>Dwyane Wade</td>\n      <td>SG</td>\n      <td>0.8</td>\n      <td>6.2</td>\n      <td>4.5</td>\n      <td>3.8</td>\n      <td>1.4</td>\n      <td>0.7</td>\n    </tr>\n    <tr>\n      <th>97</th>\n      <td>Dion Waiters</td>\n      <td>SG</td>\n      <td>1.8</td>\n      <td>4.3</td>\n      <td>3.3</td>\n      <td>4.3</td>\n      <td>0.9</td>\n      <td>0.4</td>\n    </tr>\n    <tr>\n      <th>98</th>\n      <td>Hassan Whiteside</td>\n      <td>C</td>\n      <td>0.0</td>\n      <td>7.0</td>\n      <td>14.1</td>\n      <td>0.7</td>\n      <td>0.7</td>\n      <td>2.1</td>\n    </tr>\n    <tr>\n      <th>99</th>\n      <td>Lou Williams</td>\n      <td>SG</td>\n      <td>2.0</td>\n      <td>3.3</td>\n      <td>2.5</td>\n      <td>3.0</td>\n      <td>1.0</td>\n      <td>0.2</td>\n    </tr>\n  </tbody>\n</table>\n<p>100 rows × 8 columns</p>\n</div>"
     },
     "execution_count": 2,
     "metadata": {},
     "output_type": "execute_result"
    }
   ],
   "source": [
    "import numpy as np\n",
    "import matplotlib.pyplot as plt\n",
    "import pandas as pd\n",
    "from sklearn.neighbors import KNeighborsClassifier\n",
    "\n",
    "df = pd.read_csv(\"./basketball_stat.csv\")\n",
    "df"
   ]
  },
  {
   "cell_type": "code",
   "execution_count": 3,
   "outputs": [],
   "source": [
    "kNN = KNeighborsClassifier(n_neighbors=2)\n"
   ],
   "metadata": {
    "collapsed": false,
    "pycharm": {
     "name": "#%%\n"
    }
   }
  },
  {
   "cell_type": "markdown",
   "source": [
    "##  쓸만한거\n",
    "- 3P\n",
    "- BLK\n",
    "- TRB\n",
    "\n",
    "# BLK, TRB -> kNN"
   ],
   "metadata": {
    "collapsed": false,
    "pycharm": {
     "name": "#%% md\n"
    }
   }
  },
  {
   "cell_type": "code",
   "execution_count": 4,
   "outputs": [
    {
     "name": "stdout",
     "output_type": "stream",
     "text": [
      "[7.7, 4.5, 2.6, 7.0, 5.1, 8.1, 8.1, 4.5, 11.0, 11.8, 6.5, 13.8, 7.8, 3.9, 6.3, 7.8, 12.8, 10.4, 4.1, 1.6, 3.8, 5.1, 3.2, 4.2, 5.5, 6.8, 12.7, 9.8, 13.8, 4.5, 5.7, 6.6, 5.4, 6.4, 4.8, 3.2, 4.2, 4.9, 3.9, 7.5, 4.7, 3.5, 4.5, 5.5, 9.2, 12.3, 7.3, 9.5, 10.4, 14.1]\n"
     ]
    }
   ],
   "source": [
    "Shooter_BLK = df[df['Pos']==\"SG\"]['BLK']\n",
    "Shooter_TRB = df[df['Pos']==\"SG\"]['TRB']\n",
    "Shooter_3P = df[df['Pos']==\"SG\"]['3P']\n",
    "Center_BLK = df[df['Pos']==\"C\"]['BLK']\n",
    "Center_TRB = df[df['Pos']==\"C\"]['TRB']\n",
    "Center_3P = df[df['Pos']==\"C\"]['3P']\n",
    "\n",
    "print(list(Center_TRB))"
   ],
   "metadata": {
    "collapsed": false,
    "pycharm": {
     "name": "#%%\n"
    }
   }
  },
  {
   "cell_type": "code",
   "execution_count": 5,
   "outputs": [
    {
     "data": {
      "text/plain": "<Figure size 432x288 with 1 Axes>",
      "image/png": "[encoded data removed]"
     },
     "metadata": {
      "needs_background": "light"
     },
     "output_type": "display_data"
    }
   ],
   "source": [
    "plt.scatter(Center_TRB, Center_BLK, color='blue')\n",
    "plt.scatter(Shooter_TRB, Shooter_BLK, color='red')\n",
    "plt.scatter(Shooter_3P, Center_3P, color='green')\n",
    "\n",
    "plt.xlabel('TRB')\n",
    "plt.ylabel('BLK')\n",
    "plt.show()"
   ],
   "metadata": {
    "collapsed": false,
    "pycharm": {
     "name": "#%%\n"
    }
   }
  },
  {
   "cell_type": "code",
   "execution_count": 6,
   "outputs": [],
   "source": [
    "BLK = list(Shooter_BLK) + list(Center_BLK)\n",
    "TRB = list(Shooter_TRB) + list(Center_TRB)\n",
    "P_3 = list(Shooter_3P) + list(Center_3P)"
   ],
   "metadata": {
    "collapsed": false,
    "pycharm": {
     "name": "#%%\n"
    }
   }
  },
  {
   "cell_type": "code",
   "execution_count": 7,
   "outputs": [],
   "source": [
    "player_data = [[b, t] for b, t in zip(BLK, TRB)]"
   ],
   "metadata": {
    "collapsed": false,
    "pycharm": {
     "name": "#%%\n"
    }
   }
  },
  {
   "cell_type": "code",
   "execution_count": 8,
   "outputs": [
    {
     "name": "stdout",
     "output_type": "stream",
     "text": [
      "[[0.1, 1.3], [0.5, 4.3], [0.4, 6.2], [0.3, 3.1], [0.1, 2.4], [0.4, 5.9], [0.3, 3.2], [0.2, 6.1], [0.2, 3.3], [0.1, 3.0], [0.3, 2.9], [0.2, 1.6], [0.1, 1.8], [0.1, 1.5], [0.1, 2.1], [0.1, 3.1], [0.2, 2.3], [0.5, 2.7], [0.8, 3.3], [0.2, 2.8], [0.1, 3.1], [0.2, 2.8], [0.1, 3.3], [0.4, 2.7], [0.2, 3.4], [0.1, 4.0], [0.3, 2.8], [0.2, 3.4], [0.3, 3.4], [0.2, 3.5], [0.5, 3.6], [0.1, 2.1], [0.1, 2.1], [0.4, 2.1], [0.3, 2.6], [0.3, 4.3], [0.2, 2.2], [0.7, 3.2], [0.1, 2.2], [0.4, 2.9], [0.4, 3.9], [0.3, 2.8], [0.2, 3.1], [0.4, 2.8], [0.4, 2.8], [0.5, 3.7], [0.1, 2.6], [0.7, 4.5], [0.4, 3.3], [0.2, 2.5], [1.0, 7.7], [0.6, 4.5], [0.6, 2.6], [1.1, 7.0], [0.7, 5.1], [0.9, 8.1], [1.2, 8.1], [0.6, 4.5], [1.3, 11.0], [2.2, 11.8], [0.8, 6.5], [1.1, 13.8], [2.5, 7.8], [0.5, 3.9], [1.3, 6.3], [1.1, 7.8], [2.6, 12.8], [0.7, 10.4], [0.7, 4.1], [0.6, 1.6], [0.7, 3.8], [1.3, 5.1], [1.0, 3.2], [0.6, 4.2], [1.0, 5.5], [1.3, 6.8], [1.2, 12.7], [0.8, 9.8], [1.7, 13.8], [0.5, 4.5], [0.7, 5.7], [1.3, 6.6], [1.7, 5.4], [1.4, 6.4], [0.8, 4.8], [0.9, 3.2], [0.8, 4.2], [0.6, 4.9], [0.8, 3.9], [1.1, 7.5], [0.7, 4.7], [0.7, 3.5], [0.5, 4.5], [3.0, 5.5], [1.1, 9.2], [1.3, 12.3], [2.1, 7.3], [0.8, 9.5], [1.0, 10.4], [2.1, 14.1]]\n"
     ]
    }
   ],
   "source": [
    "print(player_data)"
   ],
   "metadata": {
    "collapsed": false,
    "pycharm": {
     "name": "#%%\n"
    }
   }
  },
  {
   "cell_type": "code",
   "execution_count": 9,
   "outputs": [
    {
     "name": "stdout",
     "output_type": "stream",
     "text": [
      "[1, 1, 1, 1, 1, 1, 1, 1, 1, 1, 1, 1, 1, 1, 1, 1, 1, 1, 1, 1, 1, 1, 1, 1, 1, 1, 1, 1, 1, 1, 1, 1, 1, 1, 1, 1, 1, 1, 1, 1, 1, 1, 1, 1, 1, 1, 1, 1, 1, 1, 0, 0, 0, 0, 0, 0, 0, 0, 0, 0, 0, 0, 0, 0, 0, 0, 0, 0, 0, 0, 0, 0, 0, 0, 0, 0, 0, 0, 0, 0, 0, 0, 0, 0, 0, 0, 0, 0, 0, 0, 0, 0, 0, 0, 0, 0, 0, 0, 0, 0]\n"
     ]
    }
   ],
   "source": [
    "player_target = [1]*50 + [0]*50\n",
    "print(player_target)"
   ],
   "metadata": {
    "collapsed": false,
    "pycharm": {
     "name": "#%%\n"
    }
   }
  },
  {
   "cell_type": "code",
   "execution_count": 10,
   "outputs": [],
   "source": [
    "kn = KNeighborsClassifier()"
   ],
   "metadata": {
    "collapsed": false,
    "pycharm": {
     "name": "#%%\n"
    }
   }
  },
  {
   "cell_type": "code",
   "execution_count": 11,
   "outputs": [
    {
     "data": {
      "text/plain": "KNeighborsClassifier()"
     },
     "execution_count": 11,
     "metadata": {},
     "output_type": "execute_result"
    }
   ],
   "source": [
    "kn.fit(player_data, player_target)"
   ],
   "metadata": {
    "collapsed": false,
    "pycharm": {
     "name": "#%%\n"
    }
   }
  },
  {
   "cell_type": "code",
   "execution_count": 12,
   "outputs": [
    {
     "data": {
      "text/plain": "0.92"
     },
     "execution_count": 12,
     "metadata": {},
     "output_type": "execute_result"
    }
   ],
   "source": [
    "kn.score(player_data, player_target)"
   ],
   "metadata": {
    "collapsed": false,
    "pycharm": {
     "name": "#%%\n"
    }
   }
  },
  {
   "cell_type": "code",
   "execution_count": 13,
   "outputs": [
    {
     "data": {
      "text/plain": "array([1])"
     },
     "execution_count": 13,
     "metadata": {},
     "output_type": "execute_result"
    }
   ],
   "source": [
    "kn.predict([[0.7, 2.8]])"
   ],
   "metadata": {
    "collapsed": false,
    "pycharm": {
     "name": "#%%\n"
    }
   }
  },
  {
   "cell_type": "code",
   "execution_count": 14,
   "outputs": [
    {
     "data": {
      "text/plain": "0.6960000000000001"
     },
     "execution_count": 14,
     "metadata": {},
     "output_type": "execute_result"
    }
   ],
   "source": [
    "df['BLK'].mean()"
   ],
   "metadata": {
    "collapsed": false,
    "pycharm": {
     "name": "#%%\n"
    }
   }
  },
  {
   "cell_type": "markdown",
   "source": [
    "# 3점 vs 블락?"
   ],
   "metadata": {
    "collapsed": false,
    "pycharm": {
     "name": "#%% md\n"
    }
   }
  },
  {
   "cell_type": "code",
   "execution_count": 15,
   "outputs": [],
   "source": [
    "player_data_ver2 = [[b, t] for b, t in zip(P_3, BLK)]"
   ],
   "metadata": {
    "collapsed": false,
    "pycharm": {
     "name": "#%%\n"
    }
   }
  },
  {
   "cell_type": "code",
   "execution_count": 18,
   "outputs": [
    {
     "data": {
      "text/plain": "array([1])"
     },
     "execution_count": 18,
     "metadata": {},
     "output_type": "execute_result"
    }
   ],
   "source": [
    "kn.fit(player_data_ver2, player_target)\n",
    "\n",
    "kn.predict([[3.2, 0.4]])"
   ],
   "metadata": {
    "collapsed": false,
    "pycharm": {
     "name": "#%%\n"
    }
   }
  },
  {
   "cell_type": "code",
   "execution_count": 109,
   "outputs": [
    {
     "data": {
      "text/plain": "0.96"
     },
     "execution_count": 109,
     "metadata": {},
     "output_type": "execute_result"
    }
   ],
   "source": [
    "kn.score(player_data_ver2, player_target)"
   ],
   "metadata": {
    "collapsed": false,
    "pycharm": {
     "name": "#%%\n"
    }
   }
  },
  {
   "cell_type": "markdown",
   "source": [
    "# 3점 vs 리바\n"
   ],
   "metadata": {
    "collapsed": false,
    "pycharm": {
     "name": "#%% md\n"
    }
   }
  },
  {
   "cell_type": "code",
   "execution_count": 115,
   "outputs": [
    {
     "data": {
      "text/plain": "0.92"
     },
     "execution_count": 115,
     "metadata": {},
     "output_type": "execute_result"
    }
   ],
   "source": [
    "player_data_ver3 = [[b, t] for b, t in zip(P_3, TRB)]\n",
    "\n",
    "kn.fit(player_data_ver3, player_target)\n",
    "kn.score(player_data_ver3, player_target)\n"
   ],
   "metadata": {
    "collapsed": false,
    "pycharm": {
     "name": "#%%\n"
    }
   }
  },
  {
   "cell_type": "code",
   "execution_count": null,
   "outputs": [],
   "source": [],
   "metadata": {
    "collapsed": false,
    "pycharm": {
     "name": "#%%\n"
    }
   }
  }
 ],
 "metadata": {
  "kernelspec": {
   "display_name": "Python 3",
   "language": "python",
   "name": "python3"
  },
  "language_info": {
   "codemirror_mode": {
    "name": "ipython",
    "version": 2
   },
   "file_extension": ".py",
   "mimetype": "text/x-python",
   "name": "python",
   "nbconvert_exporter": "python",
   "pygments_lexer": "ipython2",
   "version": "2.7.6"
  }
 },
 "nbformat": 4,
 "nbformat_minor": 0
}