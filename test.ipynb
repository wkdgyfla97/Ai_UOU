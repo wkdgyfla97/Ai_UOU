{
 "cells": [
  {
   "cell_type": "code",
   "execution_count": 1,
   "metadata": {
    "collapsed": true
   },
   "outputs": [],
   "source": []
  },
  {
   "cell_type": "markdown",
   "source": [
    "# 포지션 예측"
   ],
   "metadata": {
    "collapsed": false,
    "pycharm": {
     "name": "#%% md\n"
    }
   }
  },
  {
   "cell_type": "code",
   "execution_count": 1,
   "outputs": [
    {
     "data": {
      "text/plain": "              Player Pos   3P   2P   TRB  AST  STL  BLK\n0       Alex Abrines  SG  1.4  0.6   1.3  0.6  0.5  0.1\n1       Steven Adams   C  0.0  4.7   7.7  1.1  1.1  1.0\n2      Alexis Ajinca   C  0.0  2.3   4.5  0.3  0.5  0.6\n3     Chris Andersen   C  0.0  0.8   2.6  0.4  0.4  0.6\n4        Will Barton  SG  1.5  3.5   4.3  3.4  0.8  0.5\n..               ...  ..  ...  ...   ...  ...  ...  ...\n95    Nikola Vucevic   C  0.3  6.1  10.4  2.8  1.0  1.0\n96       Dwyane Wade  SG  0.8  6.2   4.5  3.8  1.4  0.7\n97      Dion Waiters  SG  1.8  4.3   3.3  4.3  0.9  0.4\n98  Hassan Whiteside   C  0.0  7.0  14.1  0.7  0.7  2.1\n99      Lou Williams  SG  2.0  3.3   2.5  3.0  1.0  0.2\n\n[100 rows x 8 columns]",
      "text/html": "<div>\n<style scoped>\n    .dataframe tbody tr th:only-of-type {\n        vertical-align: middle;\n    }\n\n    .dataframe tbody tr th {\n        vertical-align: top;\n    }\n\n    .dataframe thead th {\n        text-align: right;\n    }\n</style>\n<table border=\"1\" class=\"dataframe\">\n  <thead>\n    <tr style=\"text-align: right;\">\n      <th></th>\n      <th>Player</th>\n      <th>Pos</th>\n      <th>3P</th>\n      <th>2P</th>\n      <th>TRB</th>\n      <th>AST</th>\n      <th>STL</th>\n      <th>BLK</th>\n    </tr>\n  </thead>\n  <tbody>\n    <tr>\n      <th>0</th>\n      <td>Alex Abrines</td>\n      <td>SG</td>\n      <td>1.4</td>\n      <td>0.6</td>\n      <td>1.3</td>\n      <td>0.6</td>\n      <td>0.5</td>\n      <td>0.1</td>\n    </tr>\n    <tr>\n      <th>1</th>\n      <td>Steven Adams</td>\n      <td>C</td>\n      <td>0.0</td>\n      <td>4.7</td>\n      <td>7.7</td>\n      <td>1.1</td>\n      <td>1.1</td>\n      <td>1.0</td>\n    </tr>\n    <tr>\n      <th>2</th>\n      <td>Alexis Ajinca</td>\n      <td>C</td>\n      <td>0.0</td>\n      <td>2.3</td>\n      <td>4.5</td>\n      <td>0.3</td>\n      <td>0.5</td>\n      <td>0.6</td>\n    </tr>\n    <tr>\n      <th>3</th>\n      <td>Chris Andersen</td>\n      <td>C</td>\n      <td>0.0</td>\n      <td>0.8</td>\n      <td>2.6</td>\n      <td>0.4</td>\n      <td>0.4</td>\n      <td>0.6</td>\n    </tr>\n    <tr>\n      <th>4</th>\n      <td>Will Barton</td>\n      <td>SG</td>\n      <td>1.5</td>\n      <td>3.5</td>\n      <td>4.3</td>\n      <td>3.4</td>\n      <td>0.8</td>\n      <td>0.5</td>\n    </tr>\n    <tr>\n      <th>...</th>\n      <td>...</td>\n      <td>...</td>\n      <td>...</td>\n      <td>...</td>\n      <td>...</td>\n      <td>...</td>\n      <td>...</td>\n      <td>...</td>\n    </tr>\n    <tr>\n      <th>95</th>\n      <td>Nikola Vucevic</td>\n      <td>C</td>\n      <td>0.3</td>\n      <td>6.1</td>\n      <td>10.4</td>\n      <td>2.8</td>\n      <td>1.0</td>\n      <td>1.0</td>\n    </tr>\n    <tr>\n      <th>96</th>\n      <td>Dwyane Wade</td>\n      <td>SG</td>\n      <td>0.8</td>\n      <td>6.2</td>\n      <td>4.5</td>\n      <td>3.8</td>\n      <td>1.4</td>\n      <td>0.7</td>\n    </tr>\n    <tr>\n      <th>97</th>\n      <td>Dion Waiters</td>\n      <td>SG</td>\n      <td>1.8</td>\n      <td>4.3</td>\n      <td>3.3</td>\n      <td>4.3</td>\n      <td>0.9</td>\n      <td>0.4</td>\n    </tr>\n    <tr>\n      <th>98</th>\n      <td>Hassan Whiteside</td>\n      <td>C</td>\n      <td>0.0</td>\n      <td>7.0</td>\n      <td>14.1</td>\n      <td>0.7</td>\n      <td>0.7</td>\n      <td>2.1</td>\n    </tr>\n    <tr>\n      <th>99</th>\n      <td>Lou Williams</td>\n      <td>SG</td>\n      <td>2.0</td>\n      <td>3.3</td>\n      <td>2.5</td>\n      <td>3.0</td>\n      <td>1.0</td>\n      <td>0.2</td>\n    </tr>\n  </tbody>\n</table>\n<p>100 rows × 8 columns</p>\n</div>"
     },
     "execution_count": 1,
     "metadata": {},
     "output_type": "execute_result"
    }
   ],
   "source": [
    "import pandas as pd\n",
    "\n",
    "data = pd.read_csv(\"./basketball_stat.csv\")\n",
    "data"
   ],
   "metadata": {
    "collapsed": false,
    "pycharm": {
     "name": "#%%\n"
    }
   }
  },
  {
   "cell_type": "code",
   "execution_count": 2,
   "outputs": [],
   "source": [
    "Shooter_data = data[data['Pos'] == 'SG']"
   ],
   "metadata": {
    "collapsed": false,
    "pycharm": {
     "name": "#%%\n"
    }
   }
  },
  {
   "cell_type": "code",
   "execution_count": 3,
   "outputs": [],
   "source": [
    "Center_data = data[data['Pos'] == 'C']"
   ],
   "metadata": {
    "collapsed": false,
    "pycharm": {
     "name": "#%%\n"
    }
   }
  },
  {
   "cell_type": "code",
   "execution_count": 4,
   "outputs": [
    {
     "data": {
      "text/plain": "Index(['Player', 'Pos', '3P', '2P', 'TRB', 'AST', 'STL', 'BLK'], dtype='object')"
     },
     "execution_count": 4,
     "metadata": {},
     "output_type": "execute_result"
    }
   ],
   "source": [
    "data.columns"
   ],
   "metadata": {
    "collapsed": false,
    "pycharm": {
     "name": "#%%\n"
    }
   }
  },
  {
   "cell_type": "code",
   "execution_count": 6,
   "outputs": [
    {
     "name": "stdout",
     "output_type": "stream",
     "text": [
      "0     1.4\n",
      "4     1.5\n",
      "5     1.8\n",
      "6     2.9\n",
      "7     1.4\n",
      "8     1.6\n",
      "12    1.9\n",
      "13    2.0\n",
      "14    2.0\n",
      "17    1.4\n",
      "19    1.7\n",
      "20    1.4\n",
      "21    1.9\n",
      "22    2.1\n",
      "26    2.4\n",
      "28    1.9\n",
      "32    1.3\n",
      "34    3.3\n",
      "36    1.7\n",
      "39    1.9\n",
      "41    1.9\n",
      "42    1.6\n",
      "45    1.8\n",
      "47    1.2\n",
      "49    1.9\n",
      "55    1.5\n",
      "56    2.4\n",
      "58    2.6\n",
      "59    1.4\n",
      "64    2.4\n",
      "65    2.3\n",
      "67    1.1\n",
      "68    1.6\n",
      "70    1.1\n",
      "72    1.4\n",
      "73    1.9\n",
      "76    2.6\n",
      "78    1.4\n",
      "79    1.5\n",
      "80    1.2\n",
      "81    1.2\n",
      "82    2.3\n",
      "84    1.8\n",
      "86    1.7\n",
      "88    1.3\n",
      "89    3.4\n",
      "94    1.3\n",
      "96    0.8\n",
      "97    1.8\n",
      "99    2.0\n",
      "Name: 3P, dtype: float64\n"
     ]
    },
    {
     "data": {
      "text/plain": "<matplotlib.collections.PathCollection at 0x21d9faea310>"
     },
     "execution_count": 6,
     "metadata": {},
     "output_type": "execute_result"
    },
    {
     "data": {
      "text/plain": "<Figure size 432x288 with 1 Axes>",
      "image/png": "[encoded data removed]"
     },
     "metadata": {
      "needs_background": "light"
     },
     "output_type": "display_data"
    }
   ],
   "source": [
    "import matplotlib.pyplot as plt\n",
    "\n",
    "a_list = list(range(0,4))\n",
    "\n",
    "print(Shooter_data['3P'])\n",
    "x = range(len(Shooter_data['3P']))\n",
    "\n",
    "plt.scatter(Shooter_data['2P'], Shooter_data['3P'])\n",
    "plt.scatter(Center_data['2P'], Center_data['3P'], color='red')"
   ],
   "metadata": {
    "collapsed": false,
    "pycharm": {
     "name": "#%%\n"
    }
   }
  },
  {
   "cell_type": "code",
   "execution_count": 18,
   "outputs": [
    {
     "data": {
      "text/plain": "<matplotlib.collections.PathCollection at 0x2b0e7c84c10>"
     },
     "execution_count": 18,
     "metadata": {},
     "output_type": "execute_result"
    },
    {
     "data": {
      "text/plain": "<Figure size 432x288 with 1 Axes>",
      "image/png": "[encoded data removed]"
     },
     "metadata": {
      "needs_background": "light"
     },
     "output_type": "display_data"
    }
   ],
   "source": [
    "plt.scatter(Shooter_data['TRB'], Shooter_data['AST'])\n",
    "plt.scatter(Center_data['TRB'], Center_data['AST'], color='red')"
   ],
   "metadata": {
    "collapsed": false,
    "pycharm": {
     "name": "#%%\n"
    }
   }
  },
  {
   "cell_type": "code",
   "execution_count": 19,
   "outputs": [
    {
     "data": {
      "text/plain": "<matplotlib.collections.PathCollection at 0x2b0e7cfc130>"
     },
     "execution_count": 19,
     "metadata": {},
     "output_type": "execute_result"
    },
    {
     "data": {
      "text/plain": "<Figure size 432x288 with 1 Axes>",
      "image/png": "[encoded data removed]"
     },
     "metadata": {
      "needs_background": "light"
     },
     "output_type": "display_data"
    }
   ],
   "source": [
    "plt.scatter(Shooter_data['BLK'], Shooter_data['AST'])\n",
    "plt.scatter(Center_data['BLK'], Center_data['AST'], color='red')"
   ],
   "metadata": {
    "collapsed": false,
    "pycharm": {
     "name": "#%%\n"
    }
   }
  },
  {
   "cell_type": "code",
   "execution_count": 20,
   "outputs": [
    {
     "data": {
      "text/plain": "<matplotlib.collections.PathCollection at 0x2b0e7d60790>"
     },
     "execution_count": 20,
     "metadata": {},
     "output_type": "execute_result"
    },
    {
     "data": {
      "text/plain": "<Figure size 432x288 with 1 Axes>",
      "image/png": "[encoded data removed]"
     },
     "metadata": {
      "needs_background": "light"
     },
     "output_type": "display_data"
    }
   ],
   "source": [
    "plt.scatter(Shooter_data['3P'], Shooter_data['AST'])\n",
    "plt.scatter(Center_data['3P'], Center_data['AST'], color='red')"
   ],
   "metadata": {
    "collapsed": false,
    "pycharm": {
     "name": "#%%\n"
    }
   }
  },
  {
   "cell_type": "code",
   "execution_count": 21,
   "outputs": [
    {
     "data": {
      "text/plain": "<matplotlib.collections.PathCollection at 0x2b0e6a95640>"
     },
     "execution_count": 21,
     "metadata": {},
     "output_type": "execute_result"
    },
    {
     "data": {
      "text/plain": "<Figure size 432x288 with 1 Axes>",
      "image/png": "[encoded data removed]"
     },
     "metadata": {
      "needs_background": "light"
     },
     "output_type": "display_data"
    }
   ],
   "source": [
    "plt.scatter(Shooter_data['2P'], Shooter_data['AST'])\n",
    "plt.scatter(Center_data['2P'], Center_data['AST'], color='red')\n"
   ],
   "metadata": {
    "collapsed": false,
    "pycharm": {
     "name": "#%%\n"
    }
   }
  },
  {
   "cell_type": "code",
   "execution_count": 26,
   "outputs": [
    {
     "data": {
      "text/plain": "<matplotlib.collections.PathCollection at 0x2b0e6a73c40>"
     },
     "execution_count": 26,
     "metadata": {},
     "output_type": "execute_result"
    },
    {
     "data": {
      "text/plain": "<Figure size 432x288 with 1 Axes>",
      "image/png": "[encoded data removed]"
     },
     "metadata": {
      "needs_background": "light"
     },
     "output_type": "display_data"
    }
   ],
   "source": [
    "plt.scatter(Shooter_data['BLK'], Shooter_data['STL'])\n",
    "plt.scatter(Center_data['BLK'], Center_data['STL'], color='red')\n"
   ],
   "metadata": {
    "collapsed": false,
    "pycharm": {
     "name": "#%%\n"
    }
   }
  },
  {
   "cell_type": "code",
   "execution_count": 29,
   "outputs": [
    {
     "name": "stdout",
     "output_type": "stream",
     "text": [
      "3P 1.7979999999999998\n",
      "2P 2.7320000000000007\n",
      "BLK 0.28\n",
      "AST 2.3759999999999994\n",
      "STL 0.862\n",
      "TRB 3.0920000000000005\n"
     ]
    }
   ],
   "source": [
    "print(\"3P\", Shooter_data['3P'].mean())\n",
    "print(\"2P\",Shooter_data['2P'].mean())\n",
    "print(\"BLK\", Shooter_data['BLK'].mean())\n",
    "print(\"AST\",Shooter_data['AST'].mean())\n",
    "print(\"STL\",Shooter_data['STL'].mean())\n",
    "print(\"TRB\",Shooter_data['TRB'].mean())"
   ],
   "metadata": {
    "collapsed": false,
    "pycharm": {
     "name": "#%%\n"
    }
   }
  },
  {
   "cell_type": "code",
   "execution_count": 30,
   "outputs": [
    {
     "name": "stdout",
     "output_type": "stream",
     "text": [
      "3P 0.366\n",
      "2P 3.7979999999999996\n",
      "BLK 1.112\n",
      "AST 1.4080000000000001\n",
      "STL 0.588\n",
      "TRB 6.968000000000001\n"
     ]
    }
   ],
   "source": [
    "print(\"3P\", Center_data['3P'].mean())\n",
    "print(\"2P\",Center_data['2P'].mean())\n",
    "print(\"BLK\", Center_data['BLK'].mean())\n",
    "print(\"AST\",Center_data['AST'].mean())\n",
    "print(\"STL\",Center_data['STL'].mean())\n",
    "print(\"TRB\",Center_data['TRB'].mean())"
   ],
   "metadata": {
    "collapsed": false,
    "pycharm": {
     "name": "#%%\n"
    }
   }
  },
  {
   "cell_type": "code",
   "execution_count": 37,
   "outputs": [
    {
     "data": {
      "text/plain": "<matplotlib.collections.PathCollection at 0x2b0e80c5ee0>"
     },
     "execution_count": 37,
     "metadata": {},
     "output_type": "execute_result"
    },
    {
     "data": {
      "text/plain": "<Figure size 432x288 with 1 Axes>",
      "image/png": "[encoded data removed]"
     },
     "metadata": {
      "needs_background": "light"
     },
     "output_type": "display_data"
    }
   ],
   "source": [
    "plt.scatter(Shooter_data['BLK'], Shooter_data['TRB'])\n",
    "plt.scatter(Center_data['BLK'], Center_data['TRB'], color='red')\n"
   ],
   "metadata": {
    "collapsed": false,
    "pycharm": {
     "name": "#%%\n"
    }
   }
  },
  {
   "cell_type": "code",
   "execution_count": 31,
   "outputs": [
    {
     "data": {
      "text/plain": "<Figure size 432x288 with 1 Axes>",
      "image/png": "[encoded data removed]"
     },
     "metadata": {
      "needs_background": "light"
     },
     "output_type": "display_data"
    }
   ],
   "source": [
    "from sklearn.linear_model import LinearRegression\n",
    "\n",
    "lr = LinearRegression()\n",
    "\n",
    "X = data[\"BLK\"]\n",
    "y = data[\"TRB\"]\n",
    "plt.plot(X, y, 'o')\n",
    "plt.show()"
   ],
   "metadata": {
    "collapsed": false,
    "pycharm": {
     "name": "#%%\n"
    }
   }
  },
  {
   "cell_type": "code",
   "execution_count": 32,
   "outputs": [
    {
     "data": {
      "text/plain": "LinearRegression()"
     },
     "execution_count": 32,
     "metadata": {},
     "output_type": "execute_result"
    }
   ],
   "source": [
    "lr.fit(X.values.reshape(-1,1), y)"
   ],
   "metadata": {
    "collapsed": false,
    "pycharm": {
     "name": "#%%\n"
    }
   }
  },
  {
   "cell_type": "code",
   "execution_count": 37,
   "outputs": [
    {
     "data": {
      "text/plain": "array([6.14712132])"
     },
     "execution_count": 37,
     "metadata": {},
     "output_type": "execute_result"
    }
   ],
   "source": [
    "lr.predict([[1]])"
   ],
   "metadata": {
    "collapsed": false,
    "pycharm": {
     "name": "#%%\n"
    }
   }
  },
  {
   "cell_type": "code",
   "execution_count": 34,
   "outputs": [
    {
     "data": {
      "text/plain": "array([3.67474119])"
     },
     "execution_count": 34,
     "metadata": {},
     "output_type": "execute_result"
    }
   ],
   "source": [
    "lr.coef_"
   ],
   "metadata": {
    "collapsed": false,
    "pycharm": {
     "name": "#%%\n"
    }
   }
  },
  {
   "cell_type": "code",
   "execution_count": 35,
   "outputs": [
    {
     "data": {
      "text/plain": "2.472380130766436"
     },
     "execution_count": 35,
     "metadata": {},
     "output_type": "execute_result"
    }
   ],
   "source": [
    "lr.intercept_"
   ],
   "metadata": {
    "collapsed": false,
    "pycharm": {
     "name": "#%%\n"
    }
   }
  },
  {
   "cell_type": "code",
   "execution_count": 36,
   "outputs": [
    {
     "data": {
      "text/plain": "<Figure size 432x288 with 1 Axes>",
      "image/png": "[encoded data removed]"
     },
     "metadata": {
      "needs_background": "light"
     },
     "output_type": "display_data"
    }
   ],
   "source": [
    "plt.plot(X, y, 'o')\n",
    "plt.plot(X, lr.predict(X.values.reshape(-1,1)))\n",
    "plt.show()"
   ],
   "metadata": {
    "collapsed": false,
    "pycharm": {
     "name": "#%%\n"
    }
   }
  },
  {
   "cell_type": "code",
   "execution_count": null,
   "outputs": [],
   "source": [
    "from sklearn.neighbors import KNeighborsClassifier\n",
    "\n",
    "kNN = KNeighborsClassifier(n_neighbors=2)\n"
   ],
   "metadata": {
    "collapsed": false,
    "pycharm": {
     "name": "#%%\n"
    }
   }
  }
 ],
 "metadata": {
  "kernelspec": {
   "display_name": "Python 3",
   "language": "python",
   "name": "python3"
  },
  "language_info": {
   "codemirror_mode": {
    "name": "ipython",
    "version": 2
   },
   "file_extension": ".py",
   "mimetype": "text/x-python",
   "name": "python",
   "nbconvert_exporter": "python",
   "pygments_lexer": "ipython2",
   "version": "2.7.6"
  }
 },
 "nbformat": 4,
 "nbformat_minor": 0
}