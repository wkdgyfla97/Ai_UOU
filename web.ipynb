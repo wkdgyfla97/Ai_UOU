{
 "cells": [
  {
   "cell_type": "code",
   "execution_count": 2,
   "metadata": {
    "collapsed": true
   },
   "outputs": [],
   "source": [
    "import pandas as pd\n",
    "import matplotlib.pyplot as plt\n",
    "import numpy as np\n",
    "import seaborn as sns"
   ]
  },
  {
   "cell_type": "code",
   "execution_count": 3,
   "outputs": [],
   "source": [
    "df = pd.read_csv('./basketball_stat.csv')"
   ],
   "metadata": {
    "collapsed": false,
    "pycharm": {
     "name": "#%%\n"
    }
   }
  },
  {
   "cell_type": "code",
   "execution_count": 4,
   "outputs": [
    {
     "data": {
      "text/plain": "Index(['Player', 'Pos', '3P', '2P', 'TRB', 'AST', 'STL', 'BLK'], dtype='object')"
     },
     "execution_count": 4,
     "metadata": {},
     "output_type": "execute_result"
    }
   ],
   "source": [
    "df.columns"
   ],
   "metadata": {
    "collapsed": false,
    "pycharm": {
     "name": "#%%\n"
    }
   }
  },
  {
   "cell_type": "code",
   "execution_count": 6,
   "outputs": [
    {
     "data": {
      "text/plain": "SG    50\nC     50\nName: Pos, dtype: int64"
     },
     "execution_count": 6,
     "metadata": {},
     "output_type": "execute_result"
    }
   ],
   "source": [
    "df.Pos.value_counts()"
   ],
   "metadata": {
    "collapsed": false,
    "pycharm": {
     "name": "#%%\n"
    }
   }
  },
  {
   "cell_type": "code",
   "execution_count": 7,
   "outputs": [
    {
     "data": {
      "text/plain": "           Player Pos   3P  TRB  BLK\n0    Alex Abrines  SG  1.4  1.3  0.1\n1    Steven Adams   C  0.0  7.7  1.0\n2   Alexis Ajinca   C  0.0  4.5  0.6\n3  Chris Andersen   C  0.0  2.6  0.6\n4     Will Barton  SG  1.5  4.3  0.5",
      "text/html": "<div>\n<style scoped>\n    .dataframe tbody tr th:only-of-type {\n        vertical-align: middle;\n    }\n\n    .dataframe tbody tr th {\n        vertical-align: top;\n    }\n\n    .dataframe thead th {\n        text-align: right;\n    }\n</style>\n<table border=\"1\" class=\"dataframe\">\n  <thead>\n    <tr style=\"text-align: right;\">\n      <th></th>\n      <th>Player</th>\n      <th>Pos</th>\n      <th>3P</th>\n      <th>TRB</th>\n      <th>BLK</th>\n    </tr>\n  </thead>\n  <tbody>\n    <tr>\n      <th>0</th>\n      <td>Alex Abrines</td>\n      <td>SG</td>\n      <td>1.4</td>\n      <td>1.3</td>\n      <td>0.1</td>\n    </tr>\n    <tr>\n      <th>1</th>\n      <td>Steven Adams</td>\n      <td>C</td>\n      <td>0.0</td>\n      <td>7.7</td>\n      <td>1.0</td>\n    </tr>\n    <tr>\n      <th>2</th>\n      <td>Alexis Ajinca</td>\n      <td>C</td>\n      <td>0.0</td>\n      <td>4.5</td>\n      <td>0.6</td>\n    </tr>\n    <tr>\n      <th>3</th>\n      <td>Chris Andersen</td>\n      <td>C</td>\n      <td>0.0</td>\n      <td>2.6</td>\n      <td>0.6</td>\n    </tr>\n    <tr>\n      <th>4</th>\n      <td>Will Barton</td>\n      <td>SG</td>\n      <td>1.5</td>\n      <td>4.3</td>\n      <td>0.5</td>\n    </tr>\n  </tbody>\n</table>\n</div>"
     },
     "execution_count": 7,
     "metadata": {},
     "output_type": "execute_result"
    }
   ],
   "source": [
    "df.drop(['2P', 'AST', 'STL'], axis=1, inplace=True)\n",
    "df.head()"
   ],
   "metadata": {
    "collapsed": false,
    "pycharm": {
     "name": "#%%\n"
    }
   }
  },
  {
   "cell_type": "code",
   "execution_count": 8,
   "outputs": [],
   "source": [
    "from sklearn.model_selection import train_test_split\n",
    "\n",
    "train, test = train_test_split(df, test_size=0.2)"
   ],
   "metadata": {
    "collapsed": false,
    "pycharm": {
     "name": "#%%\n"
    }
   }
  },
  {
   "cell_type": "code",
   "execution_count": 9,
   "outputs": [
    {
     "data": {
      "text/plain": "80"
     },
     "execution_count": 9,
     "metadata": {},
     "output_type": "execute_result"
    }
   ],
   "source": [
    "train.shape[0]"
   ],
   "metadata": {
    "collapsed": false,
    "pycharm": {
     "name": "#%%\n"
    }
   }
  },
  {
   "cell_type": "code",
   "execution_count": 10,
   "outputs": [
    {
     "data": {
      "text/plain": "20"
     },
     "execution_count": 10,
     "metadata": {},
     "output_type": "execute_result"
    }
   ],
   "source": [
    "test.shape[0]"
   ],
   "metadata": {
    "collapsed": false,
    "pycharm": {
     "name": "#%%\n"
    }
   }
  },
  {
   "cell_type": "code",
   "execution_count": 11,
   "outputs": [],
   "source": [
    "from sklearn.neighbors import KNeighborsClassifier\n",
    "from sklearn.model_selection import cross_val_score"
   ],
   "metadata": {
    "collapsed": false,
    "pycharm": {
     "name": "#%%\n"
    }
   }
  },
  {
   "cell_type": "code",
   "execution_count": 12,
   "outputs": [
    {
     "data": {
      "text/plain": "     3P  BLK   TRB\n54  1.5  0.5   4.5\n41  1.9  0.1   3.1\n65  2.3  0.5   3.6\n18  1.8  1.3  11.0\n80  1.2  0.4   2.9",
      "text/html": "<div>\n<style scoped>\n    .dataframe tbody tr th:only-of-type {\n        vertical-align: middle;\n    }\n\n    .dataframe tbody tr th {\n        vertical-align: top;\n    }\n\n    .dataframe thead th {\n        text-align: right;\n    }\n</style>\n<table border=\"1\" class=\"dataframe\">\n  <thead>\n    <tr style=\"text-align: right;\">\n      <th></th>\n      <th>3P</th>\n      <th>BLK</th>\n      <th>TRB</th>\n    </tr>\n  </thead>\n  <tbody>\n    <tr>\n      <th>54</th>\n      <td>1.5</td>\n      <td>0.5</td>\n      <td>4.5</td>\n    </tr>\n    <tr>\n      <th>41</th>\n      <td>1.9</td>\n      <td>0.1</td>\n      <td>3.1</td>\n    </tr>\n    <tr>\n      <th>65</th>\n      <td>2.3</td>\n      <td>0.5</td>\n      <td>3.6</td>\n    </tr>\n    <tr>\n      <th>18</th>\n      <td>1.8</td>\n      <td>1.3</td>\n      <td>11.0</td>\n    </tr>\n    <tr>\n      <th>80</th>\n      <td>1.2</td>\n      <td>0.4</td>\n      <td>2.9</td>\n    </tr>\n  </tbody>\n</table>\n</div>"
     },
     "execution_count": 12,
     "metadata": {},
     "output_type": "execute_result"
    }
   ],
   "source": [
    "train[['3P', 'BLK', 'TRB']].head()"
   ],
   "metadata": {
    "collapsed": false,
    "pycharm": {
     "name": "#%%\n"
    }
   }
  },
  {
   "cell_type": "code",
   "execution_count": 14,
   "outputs": [
    {
     "data": {
      "text/plain": "array(['C', 'SG', 'SG', 'C', 'SG', 'C', 'C', 'SG', 'C', 'SG', 'C', 'C',\n       'C', 'C', 'C', 'SG', 'SG', 'SG', 'SG', 'SG', 'SG', 'SG', 'SG', 'C',\n       'SG', 'C', 'C', 'SG', 'SG', 'C', 'SG', 'C', 'SG', 'SG', 'C', 'C',\n       'C', 'SG', 'C', 'C', 'C', 'SG', 'C', 'SG', 'C', 'C', 'SG', 'SG',\n       'SG', 'C', 'C', 'SG', 'SG', 'SG', 'SG', 'SG', 'SG', 'SG', 'SG',\n       'C', 'C', 'C', 'C', 'C', 'C', 'C', 'SG', 'C', 'C', 'SG', 'SG', 'C',\n       'C', 'SG', 'C', 'C', 'SG', 'C', 'SG', 'C'], dtype=object)"
     },
     "execution_count": 14,
     "metadata": {},
     "output_type": "execute_result"
    }
   ],
   "source": [
    "train[['Pos']].values.ravel()"
   ],
   "metadata": {
    "collapsed": false,
    "pycharm": {
     "name": "#%%\n"
    }
   }
  },
  {
   "cell_type": "code",
   "execution_count": 15,
   "outputs": [],
   "source": [
    "max_k_range = train.shape[0]\n",
    "k_list = []\n",
    "for i in range(3, max_k_range, 2):\n",
    "    k_list.append(i)\n",
    "cross_validation_scores = []\n",
    "x_train = train[[\"3P\", \"BLK\", \"TRB\"]]\n",
    "y_train = train[[\"Pos\"]]"
   ],
   "metadata": {
    "collapsed": false,
    "pycharm": {
     "name": "#%%\n"
    }
   }
  },
  {
   "cell_type": "markdown",
   "source": [
    "# 교차검증"
   ],
   "metadata": {
    "collapsed": false,
    "pycharm": {
     "name": "#%% md\n"
    }
   }
  },
  {
   "cell_type": "code",
   "execution_count": 20,
   "outputs": [
    {
     "name": "stdout",
     "output_type": "stream",
     "text": [
      "[0.8625, 0.8625, 0.8625, 0.8875, 0.9, 0.8875, 0.8875, 0.8875, 0.875, 0.875, 0.875, 0.8625, 0.85, 0.85, 0.825, 0.825, 0.8125, 0.8125, 0.8, 0.8, 0.7625, 0.7625, 0.75, 0.75, 0.7375, 0.7375, 0.7375, 0.7375, 0.725, 0.725, 0.7125, 0.7125, 0.7, 0.6875, 0.525, nan, nan, nan, nan, 0.8625, 0.8625, 0.8625, 0.8875, 0.9, 0.8875, 0.8875, 0.8875, 0.875, 0.875, 0.875, 0.8625, 0.85, 0.85, 0.825, 0.825, 0.8125, 0.8125, 0.8, 0.8, 0.7625, 0.7625, 0.75, 0.75, 0.7375, 0.7375, 0.7375, 0.7375, 0.725, 0.725, 0.7125, 0.7125, 0.7, 0.6875, 0.525, nan, nan, nan, nan, 0.8625, 0.8625, 0.8625, 0.8875, 0.9, 0.8875, 0.8875, 0.8875, 0.875, 0.875, 0.875, 0.8625, 0.85, 0.85, 0.825, 0.825, 0.8125, 0.8125, 0.8, 0.8, 0.7625, 0.7625, 0.75, 0.75, 0.7375, 0.7375, 0.7375, 0.7375, 0.725, 0.725, 0.7125, 0.7125, 0.7, 0.6875, 0.525, nan, nan, nan, nan]\n"
     ]
    },
    {
     "name": "stderr",
     "output_type": "stream",
     "text": [
      "c:\\users\\wkdgy\\pycharmprojects\\ai_review\\venv\\lib\\site-packages\\sklearn\\model_selection\\_validation.py:696: UserWarning: Scoring failed. The score on this train-test partition for these parameters will be set to nan. Details: \n",
      "Traceback (most recent call last):\n",
      "  File \"c:\\users\\wkdgy\\pycharmprojects\\ai_review\\venv\\lib\\site-packages\\sklearn\\model_selection\\_validation.py\", line 687, in _score\n",
      "    scores = scorer(estimator, X_test, y_test)\n",
      "  File \"c:\\users\\wkdgy\\pycharmprojects\\ai_review\\venv\\lib\\site-packages\\sklearn\\metrics\\_scorer.py\", line 87, in __call__\n",
      "    score = scorer._score(cached_call, estimator,\n",
      "  File \"c:\\users\\wkdgy\\pycharmprojects\\ai_review\\venv\\lib\\site-packages\\sklearn\\metrics\\_scorer.py\", line 236, in _score\n",
      "    y_pred = method_caller(estimator, \"predict\", X)\n",
      "  File \"c:\\users\\wkdgy\\pycharmprojects\\ai_review\\venv\\lib\\site-packages\\sklearn\\metrics\\_scorer.py\", line 53, in _cached_call\n",
      "    return getattr(estimator, method)(*args, **kwargs)\n",
      "  File \"c:\\users\\wkdgy\\pycharmprojects\\ai_review\\venv\\lib\\site-packages\\sklearn\\neighbors\\_classification.py\", line 197, in predict\n",
      "    neigh_dist, neigh_ind = self.kneighbors(X)\n",
      "  File \"c:\\users\\wkdgy\\pycharmprojects\\ai_review\\venv\\lib\\site-packages\\sklearn\\neighbors\\_base.py\", line 680, in kneighbors\n",
      "    raise ValueError(\n",
      "ValueError: Expected n_neighbors <= n_samples,  but n_samples = 72, n_neighbors = 73\n",
      "\n",
      "  warnings.warn(\n",
      "c:\\users\\wkdgy\\pycharmprojects\\ai_review\\venv\\lib\\site-packages\\sklearn\\model_selection\\_validation.py:696: UserWarning: Scoring failed. The score on this train-test partition for these parameters will be set to nan. Details: \n",
      "Traceback (most recent call last):\n",
      "  File \"c:\\users\\wkdgy\\pycharmprojects\\ai_review\\venv\\lib\\site-packages\\sklearn\\model_selection\\_validation.py\", line 687, in _score\n",
      "    scores = scorer(estimator, X_test, y_test)\n",
      "  File \"c:\\users\\wkdgy\\pycharmprojects\\ai_review\\venv\\lib\\site-packages\\sklearn\\metrics\\_scorer.py\", line 87, in __call__\n",
      "    score = scorer._score(cached_call, estimator,\n",
      "  File \"c:\\users\\wkdgy\\pycharmprojects\\ai_review\\venv\\lib\\site-packages\\sklearn\\metrics\\_scorer.py\", line 236, in _score\n",
      "    y_pred = method_caller(estimator, \"predict\", X)\n",
      "  File \"c:\\users\\wkdgy\\pycharmprojects\\ai_review\\venv\\lib\\site-packages\\sklearn\\metrics\\_scorer.py\", line 53, in _cached_call\n",
      "    return getattr(estimator, method)(*args, **kwargs)\n",
      "  File \"c:\\users\\wkdgy\\pycharmprojects\\ai_review\\venv\\lib\\site-packages\\sklearn\\neighbors\\_classification.py\", line 197, in predict\n",
      "    neigh_dist, neigh_ind = self.kneighbors(X)\n",
      "  File \"c:\\users\\wkdgy\\pycharmprojects\\ai_review\\venv\\lib\\site-packages\\sklearn\\neighbors\\_base.py\", line 680, in kneighbors\n",
      "    raise ValueError(\n",
      "ValueError: Expected n_neighbors <= n_samples,  but n_samples = 72, n_neighbors = 73\n",
      "\n",
      "  warnings.warn(\n",
      "c:\\users\\wkdgy\\pycharmprojects\\ai_review\\venv\\lib\\site-packages\\sklearn\\model_selection\\_validation.py:696: UserWarning: Scoring failed. The score on this train-test partition for these parameters will be set to nan. Details: \n",
      "Traceback (most recent call last):\n",
      "  File \"c:\\users\\wkdgy\\pycharmprojects\\ai_review\\venv\\lib\\site-packages\\sklearn\\model_selection\\_validation.py\", line 687, in _score\n",
      "    scores = scorer(estimator, X_test, y_test)\n",
      "  File \"c:\\users\\wkdgy\\pycharmprojects\\ai_review\\venv\\lib\\site-packages\\sklearn\\metrics\\_scorer.py\", line 87, in __call__\n",
      "    score = scorer._score(cached_call, estimator,\n",
      "  File \"c:\\users\\wkdgy\\pycharmprojects\\ai_review\\venv\\lib\\site-packages\\sklearn\\metrics\\_scorer.py\", line 236, in _score\n",
      "    y_pred = method_caller(estimator, \"predict\", X)\n",
      "  File \"c:\\users\\wkdgy\\pycharmprojects\\ai_review\\venv\\lib\\site-packages\\sklearn\\metrics\\_scorer.py\", line 53, in _cached_call\n",
      "    return getattr(estimator, method)(*args, **kwargs)\n",
      "  File \"c:\\users\\wkdgy\\pycharmprojects\\ai_review\\venv\\lib\\site-packages\\sklearn\\neighbors\\_classification.py\", line 197, in predict\n",
      "    neigh_dist, neigh_ind = self.kneighbors(X)\n",
      "  File \"c:\\users\\wkdgy\\pycharmprojects\\ai_review\\venv\\lib\\site-packages\\sklearn\\neighbors\\_base.py\", line 680, in kneighbors\n",
      "    raise ValueError(\n",
      "ValueError: Expected n_neighbors <= n_samples,  but n_samples = 72, n_neighbors = 73\n",
      "\n",
      "  warnings.warn(\n",
      "c:\\users\\wkdgy\\pycharmprojects\\ai_review\\venv\\lib\\site-packages\\sklearn\\model_selection\\_validation.py:696: UserWarning: Scoring failed. The score on this train-test partition for these parameters will be set to nan. Details: \n",
      "Traceback (most recent call last):\n",
      "  File \"c:\\users\\wkdgy\\pycharmprojects\\ai_review\\venv\\lib\\site-packages\\sklearn\\model_selection\\_validation.py\", line 687, in _score\n",
      "    scores = scorer(estimator, X_test, y_test)\n",
      "  File \"c:\\users\\wkdgy\\pycharmprojects\\ai_review\\venv\\lib\\site-packages\\sklearn\\metrics\\_scorer.py\", line 87, in __call__\n",
      "    score = scorer._score(cached_call, estimator,\n",
      "  File \"c:\\users\\wkdgy\\pycharmprojects\\ai_review\\venv\\lib\\site-packages\\sklearn\\metrics\\_scorer.py\", line 236, in _score\n",
      "    y_pred = method_caller(estimator, \"predict\", X)\n",
      "  File \"c:\\users\\wkdgy\\pycharmprojects\\ai_review\\venv\\lib\\site-packages\\sklearn\\metrics\\_scorer.py\", line 53, in _cached_call\n",
      "    return getattr(estimator, method)(*args, **kwargs)\n",
      "  File \"c:\\users\\wkdgy\\pycharmprojects\\ai_review\\venv\\lib\\site-packages\\sklearn\\neighbors\\_classification.py\", line 197, in predict\n",
      "    neigh_dist, neigh_ind = self.kneighbors(X)\n",
      "  File \"c:\\users\\wkdgy\\pycharmprojects\\ai_review\\venv\\lib\\site-packages\\sklearn\\neighbors\\_base.py\", line 680, in kneighbors\n",
      "    raise ValueError(\n",
      "ValueError: Expected n_neighbors <= n_samples,  but n_samples = 72, n_neighbors = 73\n",
      "\n",
      "  warnings.warn(\n",
      "c:\\users\\wkdgy\\pycharmprojects\\ai_review\\venv\\lib\\site-packages\\sklearn\\model_selection\\_validation.py:696: UserWarning: Scoring failed. The score on this train-test partition for these parameters will be set to nan. Details: \n",
      "Traceback (most recent call last):\n",
      "  File \"c:\\users\\wkdgy\\pycharmprojects\\ai_review\\venv\\lib\\site-packages\\sklearn\\model_selection\\_validation.py\", line 687, in _score\n",
      "    scores = scorer(estimator, X_test, y_test)\n",
      "  File \"c:\\users\\wkdgy\\pycharmprojects\\ai_review\\venv\\lib\\site-packages\\sklearn\\metrics\\_scorer.py\", line 87, in __call__\n",
      "    score = scorer._score(cached_call, estimator,\n",
      "  File \"c:\\users\\wkdgy\\pycharmprojects\\ai_review\\venv\\lib\\site-packages\\sklearn\\metrics\\_scorer.py\", line 236, in _score\n",
      "    y_pred = method_caller(estimator, \"predict\", X)\n",
      "  File \"c:\\users\\wkdgy\\pycharmprojects\\ai_review\\venv\\lib\\site-packages\\sklearn\\metrics\\_scorer.py\", line 53, in _cached_call\n",
      "    return getattr(estimator, method)(*args, **kwargs)\n",
      "  File \"c:\\users\\wkdgy\\pycharmprojects\\ai_review\\venv\\lib\\site-packages\\sklearn\\neighbors\\_classification.py\", line 197, in predict\n",
      "    neigh_dist, neigh_ind = self.kneighbors(X)\n",
      "  File \"c:\\users\\wkdgy\\pycharmprojects\\ai_review\\venv\\lib\\site-packages\\sklearn\\neighbors\\_base.py\", line 680, in kneighbors\n",
      "    raise ValueError(\n",
      "ValueError: Expected n_neighbors <= n_samples,  but n_samples = 72, n_neighbors = 73\n",
      "\n",
      "  warnings.warn(\n",
      "c:\\users\\wkdgy\\pycharmprojects\\ai_review\\venv\\lib\\site-packages\\sklearn\\model_selection\\_validation.py:696: UserWarning: Scoring failed. The score on this train-test partition for these parameters will be set to nan. Details: \n",
      "Traceback (most recent call last):\n",
      "  File \"c:\\users\\wkdgy\\pycharmprojects\\ai_review\\venv\\lib\\site-packages\\sklearn\\model_selection\\_validation.py\", line 687, in _score\n",
      "    scores = scorer(estimator, X_test, y_test)\n",
      "  File \"c:\\users\\wkdgy\\pycharmprojects\\ai_review\\venv\\lib\\site-packages\\sklearn\\metrics\\_scorer.py\", line 87, in __call__\n",
      "    score = scorer._score(cached_call, estimator,\n",
      "  File \"c:\\users\\wkdgy\\pycharmprojects\\ai_review\\venv\\lib\\site-packages\\sklearn\\metrics\\_scorer.py\", line 236, in _score\n",
      "    y_pred = method_caller(estimator, \"predict\", X)\n",
      "  File \"c:\\users\\wkdgy\\pycharmprojects\\ai_review\\venv\\lib\\site-packages\\sklearn\\metrics\\_scorer.py\", line 53, in _cached_call\n",
      "    return getattr(estimator, method)(*args, **kwargs)\n",
      "  File \"c:\\users\\wkdgy\\pycharmprojects\\ai_review\\venv\\lib\\site-packages\\sklearn\\neighbors\\_classification.py\", line 197, in predict\n",
      "    neigh_dist, neigh_ind = self.kneighbors(X)\n",
      "  File \"c:\\users\\wkdgy\\pycharmprojects\\ai_review\\venv\\lib\\site-packages\\sklearn\\neighbors\\_base.py\", line 680, in kneighbors\n",
      "    raise ValueError(\n",
      "ValueError: Expected n_neighbors <= n_samples,  but n_samples = 72, n_neighbors = 73\n",
      "\n",
      "  warnings.warn(\n",
      "c:\\users\\wkdgy\\pycharmprojects\\ai_review\\venv\\lib\\site-packages\\sklearn\\model_selection\\_validation.py:696: UserWarning: Scoring failed. The score on this train-test partition for these parameters will be set to nan. Details: \n",
      "Traceback (most recent call last):\n",
      "  File \"c:\\users\\wkdgy\\pycharmprojects\\ai_review\\venv\\lib\\site-packages\\sklearn\\model_selection\\_validation.py\", line 687, in _score\n",
      "    scores = scorer(estimator, X_test, y_test)\n",
      "  File \"c:\\users\\wkdgy\\pycharmprojects\\ai_review\\venv\\lib\\site-packages\\sklearn\\metrics\\_scorer.py\", line 87, in __call__\n",
      "    score = scorer._score(cached_call, estimator,\n",
      "  File \"c:\\users\\wkdgy\\pycharmprojects\\ai_review\\venv\\lib\\site-packages\\sklearn\\metrics\\_scorer.py\", line 236, in _score\n",
      "    y_pred = method_caller(estimator, \"predict\", X)\n",
      "  File \"c:\\users\\wkdgy\\pycharmprojects\\ai_review\\venv\\lib\\site-packages\\sklearn\\metrics\\_scorer.py\", line 53, in _cached_call\n",
      "    return getattr(estimator, method)(*args, **kwargs)\n",
      "  File \"c:\\users\\wkdgy\\pycharmprojects\\ai_review\\venv\\lib\\site-packages\\sklearn\\neighbors\\_classification.py\", line 197, in predict\n",
      "    neigh_dist, neigh_ind = self.kneighbors(X)\n",
      "  File \"c:\\users\\wkdgy\\pycharmprojects\\ai_review\\venv\\lib\\site-packages\\sklearn\\neighbors\\_base.py\", line 680, in kneighbors\n",
      "    raise ValueError(\n",
      "ValueError: Expected n_neighbors <= n_samples,  but n_samples = 72, n_neighbors = 73\n",
      "\n",
      "  warnings.warn(\n",
      "c:\\users\\wkdgy\\pycharmprojects\\ai_review\\venv\\lib\\site-packages\\sklearn\\model_selection\\_validation.py:696: UserWarning: Scoring failed. The score on this train-test partition for these parameters will be set to nan. Details: \n",
      "Traceback (most recent call last):\n",
      "  File \"c:\\users\\wkdgy\\pycharmprojects\\ai_review\\venv\\lib\\site-packages\\sklearn\\model_selection\\_validation.py\", line 687, in _score\n",
      "    scores = scorer(estimator, X_test, y_test)\n",
      "  File \"c:\\users\\wkdgy\\pycharmprojects\\ai_review\\venv\\lib\\site-packages\\sklearn\\metrics\\_scorer.py\", line 87, in __call__\n",
      "    score = scorer._score(cached_call, estimator,\n",
      "  File \"c:\\users\\wkdgy\\pycharmprojects\\ai_review\\venv\\lib\\site-packages\\sklearn\\metrics\\_scorer.py\", line 236, in _score\n",
      "    y_pred = method_caller(estimator, \"predict\", X)\n",
      "  File \"c:\\users\\wkdgy\\pycharmprojects\\ai_review\\venv\\lib\\site-packages\\sklearn\\metrics\\_scorer.py\", line 53, in _cached_call\n",
      "    return getattr(estimator, method)(*args, **kwargs)\n",
      "  File \"c:\\users\\wkdgy\\pycharmprojects\\ai_review\\venv\\lib\\site-packages\\sklearn\\neighbors\\_classification.py\", line 197, in predict\n",
      "    neigh_dist, neigh_ind = self.kneighbors(X)\n",
      "  File \"c:\\users\\wkdgy\\pycharmprojects\\ai_review\\venv\\lib\\site-packages\\sklearn\\neighbors\\_base.py\", line 680, in kneighbors\n",
      "    raise ValueError(\n",
      "ValueError: Expected n_neighbors <= n_samples,  but n_samples = 72, n_neighbors = 73\n",
      "\n",
      "  warnings.warn(\n",
      "c:\\users\\wkdgy\\pycharmprojects\\ai_review\\venv\\lib\\site-packages\\sklearn\\model_selection\\_validation.py:696: UserWarning: Scoring failed. The score on this train-test partition for these parameters will be set to nan. Details: \n",
      "Traceback (most recent call last):\n",
      "  File \"c:\\users\\wkdgy\\pycharmprojects\\ai_review\\venv\\lib\\site-packages\\sklearn\\model_selection\\_validation.py\", line 687, in _score\n",
      "    scores = scorer(estimator, X_test, y_test)\n",
      "  File \"c:\\users\\wkdgy\\pycharmprojects\\ai_review\\venv\\lib\\site-packages\\sklearn\\metrics\\_scorer.py\", line 87, in __call__\n",
      "    score = scorer._score(cached_call, estimator,\n",
      "  File \"c:\\users\\wkdgy\\pycharmprojects\\ai_review\\venv\\lib\\site-packages\\sklearn\\metrics\\_scorer.py\", line 236, in _score\n",
      "    y_pred = method_caller(estimator, \"predict\", X)\n",
      "  File \"c:\\users\\wkdgy\\pycharmprojects\\ai_review\\venv\\lib\\site-packages\\sklearn\\metrics\\_scorer.py\", line 53, in _cached_call\n",
      "    return getattr(estimator, method)(*args, **kwargs)\n",
      "  File \"c:\\users\\wkdgy\\pycharmprojects\\ai_review\\venv\\lib\\site-packages\\sklearn\\neighbors\\_classification.py\", line 197, in predict\n",
      "    neigh_dist, neigh_ind = self.kneighbors(X)\n",
      "  File \"c:\\users\\wkdgy\\pycharmprojects\\ai_review\\venv\\lib\\site-packages\\sklearn\\neighbors\\_base.py\", line 680, in kneighbors\n",
      "    raise ValueError(\n",
      "ValueError: Expected n_neighbors <= n_samples,  but n_samples = 72, n_neighbors = 73\n",
      "\n",
      "  warnings.warn(\n",
      "c:\\users\\wkdgy\\pycharmprojects\\ai_review\\venv\\lib\\site-packages\\sklearn\\model_selection\\_validation.py:696: UserWarning: Scoring failed. The score on this train-test partition for these parameters will be set to nan. Details: \n",
      "Traceback (most recent call last):\n",
      "  File \"c:\\users\\wkdgy\\pycharmprojects\\ai_review\\venv\\lib\\site-packages\\sklearn\\model_selection\\_validation.py\", line 687, in _score\n",
      "    scores = scorer(estimator, X_test, y_test)\n",
      "  File \"c:\\users\\wkdgy\\pycharmprojects\\ai_review\\venv\\lib\\site-packages\\sklearn\\metrics\\_scorer.py\", line 87, in __call__\n",
      "    score = scorer._score(cached_call, estimator,\n",
      "  File \"c:\\users\\wkdgy\\pycharmprojects\\ai_review\\venv\\lib\\site-packages\\sklearn\\metrics\\_scorer.py\", line 236, in _score\n",
      "    y_pred = method_caller(estimator, \"predict\", X)\n",
      "  File \"c:\\users\\wkdgy\\pycharmprojects\\ai_review\\venv\\lib\\site-packages\\sklearn\\metrics\\_scorer.py\", line 53, in _cached_call\n",
      "    return getattr(estimator, method)(*args, **kwargs)\n",
      "  File \"c:\\users\\wkdgy\\pycharmprojects\\ai_review\\venv\\lib\\site-packages\\sklearn\\neighbors\\_classification.py\", line 197, in predict\n",
      "    neigh_dist, neigh_ind = self.kneighbors(X)\n",
      "  File \"c:\\users\\wkdgy\\pycharmprojects\\ai_review\\venv\\lib\\site-packages\\sklearn\\neighbors\\_base.py\", line 680, in kneighbors\n",
      "    raise ValueError(\n",
      "ValueError: Expected n_neighbors <= n_samples,  but n_samples = 72, n_neighbors = 73\n",
      "\n",
      "  warnings.warn(\n",
      "c:\\users\\wkdgy\\pycharmprojects\\ai_review\\venv\\lib\\site-packages\\sklearn\\model_selection\\_validation.py:696: UserWarning: Scoring failed. The score on this train-test partition for these parameters will be set to nan. Details: \n",
      "Traceback (most recent call last):\n",
      "  File \"c:\\users\\wkdgy\\pycharmprojects\\ai_review\\venv\\lib\\site-packages\\sklearn\\model_selection\\_validation.py\", line 687, in _score\n",
      "    scores = scorer(estimator, X_test, y_test)\n",
      "  File \"c:\\users\\wkdgy\\pycharmprojects\\ai_review\\venv\\lib\\site-packages\\sklearn\\metrics\\_scorer.py\", line 87, in __call__\n",
      "    score = scorer._score(cached_call, estimator,\n",
      "  File \"c:\\users\\wkdgy\\pycharmprojects\\ai_review\\venv\\lib\\site-packages\\sklearn\\metrics\\_scorer.py\", line 236, in _score\n",
      "    y_pred = method_caller(estimator, \"predict\", X)\n",
      "  File \"c:\\users\\wkdgy\\pycharmprojects\\ai_review\\venv\\lib\\site-packages\\sklearn\\metrics\\_scorer.py\", line 53, in _cached_call\n",
      "    return getattr(estimator, method)(*args, **kwargs)\n",
      "  File \"c:\\users\\wkdgy\\pycharmprojects\\ai_review\\venv\\lib\\site-packages\\sklearn\\neighbors\\_classification.py\", line 197, in predict\n",
      "    neigh_dist, neigh_ind = self.kneighbors(X)\n",
      "  File \"c:\\users\\wkdgy\\pycharmprojects\\ai_review\\venv\\lib\\site-packages\\sklearn\\neighbors\\_base.py\", line 680, in kneighbors\n",
      "    raise ValueError(\n",
      "ValueError: Expected n_neighbors <= n_samples,  but n_samples = 72, n_neighbors = 75\n",
      "\n",
      "  warnings.warn(\n",
      "c:\\users\\wkdgy\\pycharmprojects\\ai_review\\venv\\lib\\site-packages\\sklearn\\model_selection\\_validation.py:696: UserWarning: Scoring failed. The score on this train-test partition for these parameters will be set to nan. Details: \n",
      "Traceback (most recent call last):\n",
      "  File \"c:\\users\\wkdgy\\pycharmprojects\\ai_review\\venv\\lib\\site-packages\\sklearn\\model_selection\\_validation.py\", line 687, in _score\n",
      "    scores = scorer(estimator, X_test, y_test)\n",
      "  File \"c:\\users\\wkdgy\\pycharmprojects\\ai_review\\venv\\lib\\site-packages\\sklearn\\metrics\\_scorer.py\", line 87, in __call__\n",
      "    score = scorer._score(cached_call, estimator,\n",
      "  File \"c:\\users\\wkdgy\\pycharmprojects\\ai_review\\venv\\lib\\site-packages\\sklearn\\metrics\\_scorer.py\", line 236, in _score\n",
      "    y_pred = method_caller(estimator, \"predict\", X)\n",
      "  File \"c:\\users\\wkdgy\\pycharmprojects\\ai_review\\venv\\lib\\site-packages\\sklearn\\metrics\\_scorer.py\", line 53, in _cached_call\n",
      "    return getattr(estimator, method)(*args, **kwargs)\n",
      "  File \"c:\\users\\wkdgy\\pycharmprojects\\ai_review\\venv\\lib\\site-packages\\sklearn\\neighbors\\_classification.py\", line 197, in predict\n",
      "    neigh_dist, neigh_ind = self.kneighbors(X)\n",
      "  File \"c:\\users\\wkdgy\\pycharmprojects\\ai_review\\venv\\lib\\site-packages\\sklearn\\neighbors\\_base.py\", line 680, in kneighbors\n",
      "    raise ValueError(\n",
      "ValueError: Expected n_neighbors <= n_samples,  but n_samples = 72, n_neighbors = 75\n",
      "\n",
      "  warnings.warn(\n",
      "c:\\users\\wkdgy\\pycharmprojects\\ai_review\\venv\\lib\\site-packages\\sklearn\\model_selection\\_validation.py:696: UserWarning: Scoring failed. The score on this train-test partition for these parameters will be set to nan. Details: \n",
      "Traceback (most recent call last):\n",
      "  File \"c:\\users\\wkdgy\\pycharmprojects\\ai_review\\venv\\lib\\site-packages\\sklearn\\model_selection\\_validation.py\", line 687, in _score\n",
      "    scores = scorer(estimator, X_test, y_test)\n",
      "  File \"c:\\users\\wkdgy\\pycharmprojects\\ai_review\\venv\\lib\\site-packages\\sklearn\\metrics\\_scorer.py\", line 87, in __call__\n",
      "    score = scorer._score(cached_call, estimator,\n",
      "  File \"c:\\users\\wkdgy\\pycharmprojects\\ai_review\\venv\\lib\\site-packages\\sklearn\\metrics\\_scorer.py\", line 236, in _score\n",
      "    y_pred = method_caller(estimator, \"predict\", X)\n",
      "  File \"c:\\users\\wkdgy\\pycharmprojects\\ai_review\\venv\\lib\\site-packages\\sklearn\\metrics\\_scorer.py\", line 53, in _cached_call\n",
      "    return getattr(estimator, method)(*args, **kwargs)\n",
      "  File \"c:\\users\\wkdgy\\pycharmprojects\\ai_review\\venv\\lib\\site-packages\\sklearn\\neighbors\\_classification.py\", line 197, in predict\n",
      "    neigh_dist, neigh_ind = self.kneighbors(X)\n",
      "  File \"c:\\users\\wkdgy\\pycharmprojects\\ai_review\\venv\\lib\\site-packages\\sklearn\\neighbors\\_base.py\", line 680, in kneighbors\n",
      "    raise ValueError(\n",
      "ValueError: Expected n_neighbors <= n_samples,  but n_samples = 72, n_neighbors = 75\n",
      "\n",
      "  warnings.warn(\n",
      "c:\\users\\wkdgy\\pycharmprojects\\ai_review\\venv\\lib\\site-packages\\sklearn\\model_selection\\_validation.py:696: UserWarning: Scoring failed. The score on this train-test partition for these parameters will be set to nan. Details: \n",
      "Traceback (most recent call last):\n",
      "  File \"c:\\users\\wkdgy\\pycharmprojects\\ai_review\\venv\\lib\\site-packages\\sklearn\\model_selection\\_validation.py\", line 687, in _score\n",
      "    scores = scorer(estimator, X_test, y_test)\n",
      "  File \"c:\\users\\wkdgy\\pycharmprojects\\ai_review\\venv\\lib\\site-packages\\sklearn\\metrics\\_scorer.py\", line 87, in __call__\n",
      "    score = scorer._score(cached_call, estimator,\n",
      "  File \"c:\\users\\wkdgy\\pycharmprojects\\ai_review\\venv\\lib\\site-packages\\sklearn\\metrics\\_scorer.py\", line 236, in _score\n",
      "    y_pred = method_caller(estimator, \"predict\", X)\n",
      "  File \"c:\\users\\wkdgy\\pycharmprojects\\ai_review\\venv\\lib\\site-packages\\sklearn\\metrics\\_scorer.py\", line 53, in _cached_call\n",
      "    return getattr(estimator, method)(*args, **kwargs)\n",
      "  File \"c:\\users\\wkdgy\\pycharmprojects\\ai_review\\venv\\lib\\site-packages\\sklearn\\neighbors\\_classification.py\", line 197, in predict\n",
      "    neigh_dist, neigh_ind = self.kneighbors(X)\n",
      "  File \"c:\\users\\wkdgy\\pycharmprojects\\ai_review\\venv\\lib\\site-packages\\sklearn\\neighbors\\_base.py\", line 680, in kneighbors\n",
      "    raise ValueError(\n",
      "ValueError: Expected n_neighbors <= n_samples,  but n_samples = 72, n_neighbors = 75\n",
      "\n",
      "  warnings.warn(\n",
      "c:\\users\\wkdgy\\pycharmprojects\\ai_review\\venv\\lib\\site-packages\\sklearn\\model_selection\\_validation.py:696: UserWarning: Scoring failed. The score on this train-test partition for these parameters will be set to nan. Details: \n",
      "Traceback (most recent call last):\n",
      "  File \"c:\\users\\wkdgy\\pycharmprojects\\ai_review\\venv\\lib\\site-packages\\sklearn\\model_selection\\_validation.py\", line 687, in _score\n",
      "    scores = scorer(estimator, X_test, y_test)\n",
      "  File \"c:\\users\\wkdgy\\pycharmprojects\\ai_review\\venv\\lib\\site-packages\\sklearn\\metrics\\_scorer.py\", line 87, in __call__\n",
      "    score = scorer._score(cached_call, estimator,\n",
      "  File \"c:\\users\\wkdgy\\pycharmprojects\\ai_review\\venv\\lib\\site-packages\\sklearn\\metrics\\_scorer.py\", line 236, in _score\n",
      "    y_pred = method_caller(estimator, \"predict\", X)\n",
      "  File \"c:\\users\\wkdgy\\pycharmprojects\\ai_review\\venv\\lib\\site-packages\\sklearn\\metrics\\_scorer.py\", line 53, in _cached_call\n",
      "    return getattr(estimator, method)(*args, **kwargs)\n",
      "  File \"c:\\users\\wkdgy\\pycharmprojects\\ai_review\\venv\\lib\\site-packages\\sklearn\\neighbors\\_classification.py\", line 197, in predict\n",
      "    neigh_dist, neigh_ind = self.kneighbors(X)\n",
      "  File \"c:\\users\\wkdgy\\pycharmprojects\\ai_review\\venv\\lib\\site-packages\\sklearn\\neighbors\\_base.py\", line 680, in kneighbors\n",
      "    raise ValueError(\n",
      "ValueError: Expected n_neighbors <= n_samples,  but n_samples = 72, n_neighbors = 75\n",
      "\n",
      "  warnings.warn(\n",
      "c:\\users\\wkdgy\\pycharmprojects\\ai_review\\venv\\lib\\site-packages\\sklearn\\model_selection\\_validation.py:696: UserWarning: Scoring failed. The score on this train-test partition for these parameters will be set to nan. Details: \n",
      "Traceback (most recent call last):\n",
      "  File \"c:\\users\\wkdgy\\pycharmprojects\\ai_review\\venv\\lib\\site-packages\\sklearn\\model_selection\\_validation.py\", line 687, in _score\n",
      "    scores = scorer(estimator, X_test, y_test)\n",
      "  File \"c:\\users\\wkdgy\\pycharmprojects\\ai_review\\venv\\lib\\site-packages\\sklearn\\metrics\\_scorer.py\", line 87, in __call__\n",
      "    score = scorer._score(cached_call, estimator,\n",
      "  File \"c:\\users\\wkdgy\\pycharmprojects\\ai_review\\venv\\lib\\site-packages\\sklearn\\metrics\\_scorer.py\", line 236, in _score\n",
      "    y_pred = method_caller(estimator, \"predict\", X)\n",
      "  File \"c:\\users\\wkdgy\\pycharmprojects\\ai_review\\venv\\lib\\site-packages\\sklearn\\metrics\\_scorer.py\", line 53, in _cached_call\n",
      "    return getattr(estimator, method)(*args, **kwargs)\n",
      "  File \"c:\\users\\wkdgy\\pycharmprojects\\ai_review\\venv\\lib\\site-packages\\sklearn\\neighbors\\_classification.py\", line 197, in predict\n",
      "    neigh_dist, neigh_ind = self.kneighbors(X)\n",
      "  File \"c:\\users\\wkdgy\\pycharmprojects\\ai_review\\venv\\lib\\site-packages\\sklearn\\neighbors\\_base.py\", line 680, in kneighbors\n",
      "    raise ValueError(\n",
      "ValueError: Expected n_neighbors <= n_samples,  but n_samples = 72, n_neighbors = 75\n",
      "\n",
      "  warnings.warn(\n",
      "c:\\users\\wkdgy\\pycharmprojects\\ai_review\\venv\\lib\\site-packages\\sklearn\\model_selection\\_validation.py:696: UserWarning: Scoring failed. The score on this train-test partition for these parameters will be set to nan. Details: \n",
      "Traceback (most recent call last):\n",
      "  File \"c:\\users\\wkdgy\\pycharmprojects\\ai_review\\venv\\lib\\site-packages\\sklearn\\model_selection\\_validation.py\", line 687, in _score\n",
      "    scores = scorer(estimator, X_test, y_test)\n",
      "  File \"c:\\users\\wkdgy\\pycharmprojects\\ai_review\\venv\\lib\\site-packages\\sklearn\\metrics\\_scorer.py\", line 87, in __call__\n",
      "    score = scorer._score(cached_call, estimator,\n",
      "  File \"c:\\users\\wkdgy\\pycharmprojects\\ai_review\\venv\\lib\\site-packages\\sklearn\\metrics\\_scorer.py\", line 236, in _score\n",
      "    y_pred = method_caller(estimator, \"predict\", X)\n",
      "  File \"c:\\users\\wkdgy\\pycharmprojects\\ai_review\\venv\\lib\\site-packages\\sklearn\\metrics\\_scorer.py\", line 53, in _cached_call\n",
      "    return getattr(estimator, method)(*args, **kwargs)\n",
      "  File \"c:\\users\\wkdgy\\pycharmprojects\\ai_review\\venv\\lib\\site-packages\\sklearn\\neighbors\\_classification.py\", line 197, in predict\n",
      "    neigh_dist, neigh_ind = self.kneighbors(X)\n",
      "  File \"c:\\users\\wkdgy\\pycharmprojects\\ai_review\\venv\\lib\\site-packages\\sklearn\\neighbors\\_base.py\", line 680, in kneighbors\n",
      "    raise ValueError(\n",
      "ValueError: Expected n_neighbors <= n_samples,  but n_samples = 72, n_neighbors = 75\n",
      "\n",
      "  warnings.warn(\n",
      "c:\\users\\wkdgy\\pycharmprojects\\ai_review\\venv\\lib\\site-packages\\sklearn\\model_selection\\_validation.py:696: UserWarning: Scoring failed. The score on this train-test partition for these parameters will be set to nan. Details: \n",
      "Traceback (most recent call last):\n",
      "  File \"c:\\users\\wkdgy\\pycharmprojects\\ai_review\\venv\\lib\\site-packages\\sklearn\\model_selection\\_validation.py\", line 687, in _score\n",
      "    scores = scorer(estimator, X_test, y_test)\n",
      "  File \"c:\\users\\wkdgy\\pycharmprojects\\ai_review\\venv\\lib\\site-packages\\sklearn\\metrics\\_scorer.py\", line 87, in __call__\n",
      "    score = scorer._score(cached_call, estimator,\n",
      "  File \"c:\\users\\wkdgy\\pycharmprojects\\ai_review\\venv\\lib\\site-packages\\sklearn\\metrics\\_scorer.py\", line 236, in _score\n",
      "    y_pred = method_caller(estimator, \"predict\", X)\n",
      "  File \"c:\\users\\wkdgy\\pycharmprojects\\ai_review\\venv\\lib\\site-packages\\sklearn\\metrics\\_scorer.py\", line 53, in _cached_call\n",
      "    return getattr(estimator, method)(*args, **kwargs)\n",
      "  File \"c:\\users\\wkdgy\\pycharmprojects\\ai_review\\venv\\lib\\site-packages\\sklearn\\neighbors\\_classification.py\", line 197, in predict\n",
      "    neigh_dist, neigh_ind = self.kneighbors(X)\n",
      "  File \"c:\\users\\wkdgy\\pycharmprojects\\ai_review\\venv\\lib\\site-packages\\sklearn\\neighbors\\_base.py\", line 680, in kneighbors\n",
      "    raise ValueError(\n",
      "ValueError: Expected n_neighbors <= n_samples,  but n_samples = 72, n_neighbors = 75\n",
      "\n",
      "  warnings.warn(\n",
      "c:\\users\\wkdgy\\pycharmprojects\\ai_review\\venv\\lib\\site-packages\\sklearn\\model_selection\\_validation.py:696: UserWarning: Scoring failed. The score on this train-test partition for these parameters will be set to nan. Details: \n",
      "Traceback (most recent call last):\n",
      "  File \"c:\\users\\wkdgy\\pycharmprojects\\ai_review\\venv\\lib\\site-packages\\sklearn\\model_selection\\_validation.py\", line 687, in _score\n",
      "    scores = scorer(estimator, X_test, y_test)\n",
      "  File \"c:\\users\\wkdgy\\pycharmprojects\\ai_review\\venv\\lib\\site-packages\\sklearn\\metrics\\_scorer.py\", line 87, in __call__\n",
      "    score = scorer._score(cached_call, estimator,\n",
      "  File \"c:\\users\\wkdgy\\pycharmprojects\\ai_review\\venv\\lib\\site-packages\\sklearn\\metrics\\_scorer.py\", line 236, in _score\n",
      "    y_pred = method_caller(estimator, \"predict\", X)\n",
      "  File \"c:\\users\\wkdgy\\pycharmprojects\\ai_review\\venv\\lib\\site-packages\\sklearn\\metrics\\_scorer.py\", line 53, in _cached_call\n",
      "    return getattr(estimator, method)(*args, **kwargs)\n",
      "  File \"c:\\users\\wkdgy\\pycharmprojects\\ai_review\\venv\\lib\\site-packages\\sklearn\\neighbors\\_classification.py\", line 197, in predict\n",
      "    neigh_dist, neigh_ind = self.kneighbors(X)\n",
      "  File \"c:\\users\\wkdgy\\pycharmprojects\\ai_review\\venv\\lib\\site-packages\\sklearn\\neighbors\\_base.py\", line 680, in kneighbors\n",
      "    raise ValueError(\n",
      "ValueError: Expected n_neighbors <= n_samples,  but n_samples = 72, n_neighbors = 75\n",
      "\n",
      "  warnings.warn(\n",
      "c:\\users\\wkdgy\\pycharmprojects\\ai_review\\venv\\lib\\site-packages\\sklearn\\model_selection\\_validation.py:696: UserWarning: Scoring failed. The score on this train-test partition for these parameters will be set to nan. Details: \n",
      "Traceback (most recent call last):\n",
      "  File \"c:\\users\\wkdgy\\pycharmprojects\\ai_review\\venv\\lib\\site-packages\\sklearn\\model_selection\\_validation.py\", line 687, in _score\n",
      "    scores = scorer(estimator, X_test, y_test)\n",
      "  File \"c:\\users\\wkdgy\\pycharmprojects\\ai_review\\venv\\lib\\site-packages\\sklearn\\metrics\\_scorer.py\", line 87, in __call__\n",
      "    score = scorer._score(cached_call, estimator,\n",
      "  File \"c:\\users\\wkdgy\\pycharmprojects\\ai_review\\venv\\lib\\site-packages\\sklearn\\metrics\\_scorer.py\", line 236, in _score\n",
      "    y_pred = method_caller(estimator, \"predict\", X)\n",
      "  File \"c:\\users\\wkdgy\\pycharmprojects\\ai_review\\venv\\lib\\site-packages\\sklearn\\metrics\\_scorer.py\", line 53, in _cached_call\n",
      "    return getattr(estimator, method)(*args, **kwargs)\n",
      "  File \"c:\\users\\wkdgy\\pycharmprojects\\ai_review\\venv\\lib\\site-packages\\sklearn\\neighbors\\_classification.py\", line 197, in predict\n",
      "    neigh_dist, neigh_ind = self.kneighbors(X)\n",
      "  File \"c:\\users\\wkdgy\\pycharmprojects\\ai_review\\venv\\lib\\site-packages\\sklearn\\neighbors\\_base.py\", line 680, in kneighbors\n",
      "    raise ValueError(\n",
      "ValueError: Expected n_neighbors <= n_samples,  but n_samples = 72, n_neighbors = 75\n",
      "\n",
      "  warnings.warn(\n",
      "c:\\users\\wkdgy\\pycharmprojects\\ai_review\\venv\\lib\\site-packages\\sklearn\\model_selection\\_validation.py:696: UserWarning: Scoring failed. The score on this train-test partition for these parameters will be set to nan. Details: \n",
      "Traceback (most recent call last):\n",
      "  File \"c:\\users\\wkdgy\\pycharmprojects\\ai_review\\venv\\lib\\site-packages\\sklearn\\model_selection\\_validation.py\", line 687, in _score\n",
      "    scores = scorer(estimator, X_test, y_test)\n",
      "  File \"c:\\users\\wkdgy\\pycharmprojects\\ai_review\\venv\\lib\\site-packages\\sklearn\\metrics\\_scorer.py\", line 87, in __call__\n",
      "    score = scorer._score(cached_call, estimator,\n",
      "  File \"c:\\users\\wkdgy\\pycharmprojects\\ai_review\\venv\\lib\\site-packages\\sklearn\\metrics\\_scorer.py\", line 236, in _score\n",
      "    y_pred = method_caller(estimator, \"predict\", X)\n",
      "  File \"c:\\users\\wkdgy\\pycharmprojects\\ai_review\\venv\\lib\\site-packages\\sklearn\\metrics\\_scorer.py\", line 53, in _cached_call\n",
      "    return getattr(estimator, method)(*args, **kwargs)\n",
      "  File \"c:\\users\\wkdgy\\pycharmprojects\\ai_review\\venv\\lib\\site-packages\\sklearn\\neighbors\\_classification.py\", line 197, in predict\n",
      "    neigh_dist, neigh_ind = self.kneighbors(X)\n",
      "  File \"c:\\users\\wkdgy\\pycharmprojects\\ai_review\\venv\\lib\\site-packages\\sklearn\\neighbors\\_base.py\", line 680, in kneighbors\n",
      "    raise ValueError(\n",
      "ValueError: Expected n_neighbors <= n_samples,  but n_samples = 72, n_neighbors = 77\n",
      "\n",
      "  warnings.warn(\n",
      "c:\\users\\wkdgy\\pycharmprojects\\ai_review\\venv\\lib\\site-packages\\sklearn\\model_selection\\_validation.py:696: UserWarning: Scoring failed. The score on this train-test partition for these parameters will be set to nan. Details: \n",
      "Traceback (most recent call last):\n",
      "  File \"c:\\users\\wkdgy\\pycharmprojects\\ai_review\\venv\\lib\\site-packages\\sklearn\\model_selection\\_validation.py\", line 687, in _score\n",
      "    scores = scorer(estimator, X_test, y_test)\n",
      "  File \"c:\\users\\wkdgy\\pycharmprojects\\ai_review\\venv\\lib\\site-packages\\sklearn\\metrics\\_scorer.py\", line 87, in __call__\n",
      "    score = scorer._score(cached_call, estimator,\n",
      "  File \"c:\\users\\wkdgy\\pycharmprojects\\ai_review\\venv\\lib\\site-packages\\sklearn\\metrics\\_scorer.py\", line 236, in _score\n",
      "    y_pred = method_caller(estimator, \"predict\", X)\n",
      "  File \"c:\\users\\wkdgy\\pycharmprojects\\ai_review\\venv\\lib\\site-packages\\sklearn\\metrics\\_scorer.py\", line 53, in _cached_call\n",
      "    return getattr(estimator, method)(*args, **kwargs)\n",
      "  File \"c:\\users\\wkdgy\\pycharmprojects\\ai_review\\venv\\lib\\site-packages\\sklearn\\neighbors\\_classification.py\", line 197, in predict\n",
      "    neigh_dist, neigh_ind = self.kneighbors(X)\n",
      "  File \"c:\\users\\wkdgy\\pycharmprojects\\ai_review\\venv\\lib\\site-packages\\sklearn\\neighbors\\_base.py\", line 680, in kneighbors\n",
      "    raise ValueError(\n",
      "ValueError: Expected n_neighbors <= n_samples,  but n_samples = 72, n_neighbors = 77\n",
      "\n",
      "  warnings.warn(\n",
      "c:\\users\\wkdgy\\pycharmprojects\\ai_review\\venv\\lib\\site-packages\\sklearn\\model_selection\\_validation.py:696: UserWarning: Scoring failed. The score on this train-test partition for these parameters will be set to nan. Details: \n",
      "Traceback (most recent call last):\n",
      "  File \"c:\\users\\wkdgy\\pycharmprojects\\ai_review\\venv\\lib\\site-packages\\sklearn\\model_selection\\_validation.py\", line 687, in _score\n",
      "    scores = scorer(estimator, X_test, y_test)\n",
      "  File \"c:\\users\\wkdgy\\pycharmprojects\\ai_review\\venv\\lib\\site-packages\\sklearn\\metrics\\_scorer.py\", line 87, in __call__\n",
      "    score = scorer._score(cached_call, estimator,\n",
      "  File \"c:\\users\\wkdgy\\pycharmprojects\\ai_review\\venv\\lib\\site-packages\\sklearn\\metrics\\_scorer.py\", line 236, in _score\n",
      "    y_pred = method_caller(estimator, \"predict\", X)\n",
      "  File \"c:\\users\\wkdgy\\pycharmprojects\\ai_review\\venv\\lib\\site-packages\\sklearn\\metrics\\_scorer.py\", line 53, in _cached_call\n",
      "    return getattr(estimator, method)(*args, **kwargs)\n",
      "  File \"c:\\users\\wkdgy\\pycharmprojects\\ai_review\\venv\\lib\\site-packages\\sklearn\\neighbors\\_classification.py\", line 197, in predict\n",
      "    neigh_dist, neigh_ind = self.kneighbors(X)\n",
      "  File \"c:\\users\\wkdgy\\pycharmprojects\\ai_review\\venv\\lib\\site-packages\\sklearn\\neighbors\\_base.py\", line 680, in kneighbors\n",
      "    raise ValueError(\n",
      "ValueError: Expected n_neighbors <= n_samples,  but n_samples = 72, n_neighbors = 77\n",
      "\n",
      "  warnings.warn(\n",
      "c:\\users\\wkdgy\\pycharmprojects\\ai_review\\venv\\lib\\site-packages\\sklearn\\model_selection\\_validation.py:696: UserWarning: Scoring failed. The score on this train-test partition for these parameters will be set to nan. Details: \n",
      "Traceback (most recent call last):\n",
      "  File \"c:\\users\\wkdgy\\pycharmprojects\\ai_review\\venv\\lib\\site-packages\\sklearn\\model_selection\\_validation.py\", line 687, in _score\n",
      "    scores = scorer(estimator, X_test, y_test)\n",
      "  File \"c:\\users\\wkdgy\\pycharmprojects\\ai_review\\venv\\lib\\site-packages\\sklearn\\metrics\\_scorer.py\", line 87, in __call__\n",
      "    score = scorer._score(cached_call, estimator,\n",
      "  File \"c:\\users\\wkdgy\\pycharmprojects\\ai_review\\venv\\lib\\site-packages\\sklearn\\metrics\\_scorer.py\", line 236, in _score\n",
      "    y_pred = method_caller(estimator, \"predict\", X)\n",
      "  File \"c:\\users\\wkdgy\\pycharmprojects\\ai_review\\venv\\lib\\site-packages\\sklearn\\metrics\\_scorer.py\", line 53, in _cached_call\n",
      "    return getattr(estimator, method)(*args, **kwargs)\n",
      "  File \"c:\\users\\wkdgy\\pycharmprojects\\ai_review\\venv\\lib\\site-packages\\sklearn\\neighbors\\_classification.py\", line 197, in predict\n",
      "    neigh_dist, neigh_ind = self.kneighbors(X)\n",
      "  File \"c:\\users\\wkdgy\\pycharmprojects\\ai_review\\venv\\lib\\site-packages\\sklearn\\neighbors\\_base.py\", line 680, in kneighbors\n",
      "    raise ValueError(\n",
      "ValueError: Expected n_neighbors <= n_samples,  but n_samples = 72, n_neighbors = 77\n",
      "\n",
      "  warnings.warn(\n",
      "c:\\users\\wkdgy\\pycharmprojects\\ai_review\\venv\\lib\\site-packages\\sklearn\\model_selection\\_validation.py:696: UserWarning: Scoring failed. The score on this train-test partition for these parameters will be set to nan. Details: \n",
      "Traceback (most recent call last):\n",
      "  File \"c:\\users\\wkdgy\\pycharmprojects\\ai_review\\venv\\lib\\site-packages\\sklearn\\model_selection\\_validation.py\", line 687, in _score\n",
      "    scores = scorer(estimator, X_test, y_test)\n",
      "  File \"c:\\users\\wkdgy\\pycharmprojects\\ai_review\\venv\\lib\\site-packages\\sklearn\\metrics\\_scorer.py\", line 87, in __call__\n",
      "    score = scorer._score(cached_call, estimator,\n",
      "  File \"c:\\users\\wkdgy\\pycharmprojects\\ai_review\\venv\\lib\\site-packages\\sklearn\\metrics\\_scorer.py\", line 236, in _score\n",
      "    y_pred = method_caller(estimator, \"predict\", X)\n",
      "  File \"c:\\users\\wkdgy\\pycharmprojects\\ai_review\\venv\\lib\\site-packages\\sklearn\\metrics\\_scorer.py\", line 53, in _cached_call\n",
      "    return getattr(estimator, method)(*args, **kwargs)\n",
      "  File \"c:\\users\\wkdgy\\pycharmprojects\\ai_review\\venv\\lib\\site-packages\\sklearn\\neighbors\\_classification.py\", line 197, in predict\n",
      "    neigh_dist, neigh_ind = self.kneighbors(X)\n",
      "  File \"c:\\users\\wkdgy\\pycharmprojects\\ai_review\\venv\\lib\\site-packages\\sklearn\\neighbors\\_base.py\", line 680, in kneighbors\n",
      "    raise ValueError(\n",
      "ValueError: Expected n_neighbors <= n_samples,  but n_samples = 72, n_neighbors = 77\n",
      "\n",
      "  warnings.warn(\n",
      "c:\\users\\wkdgy\\pycharmprojects\\ai_review\\venv\\lib\\site-packages\\sklearn\\model_selection\\_validation.py:696: UserWarning: Scoring failed. The score on this train-test partition for these parameters will be set to nan. Details: \n",
      "Traceback (most recent call last):\n",
      "  File \"c:\\users\\wkdgy\\pycharmprojects\\ai_review\\venv\\lib\\site-packages\\sklearn\\model_selection\\_validation.py\", line 687, in _score\n",
      "    scores = scorer(estimator, X_test, y_test)\n",
      "  File \"c:\\users\\wkdgy\\pycharmprojects\\ai_review\\venv\\lib\\site-packages\\sklearn\\metrics\\_scorer.py\", line 87, in __call__\n",
      "    score = scorer._score(cached_call, estimator,\n",
      "  File \"c:\\users\\wkdgy\\pycharmprojects\\ai_review\\venv\\lib\\site-packages\\sklearn\\metrics\\_scorer.py\", line 236, in _score\n",
      "    y_pred = method_caller(estimator, \"predict\", X)\n",
      "  File \"c:\\users\\wkdgy\\pycharmprojects\\ai_review\\venv\\lib\\site-packages\\sklearn\\metrics\\_scorer.py\", line 53, in _cached_call\n",
      "    return getattr(estimator, method)(*args, **kwargs)\n",
      "  File \"c:\\users\\wkdgy\\pycharmprojects\\ai_review\\venv\\lib\\site-packages\\sklearn\\neighbors\\_classification.py\", line 197, in predict\n",
      "    neigh_dist, neigh_ind = self.kneighbors(X)\n",
      "  File \"c:\\users\\wkdgy\\pycharmprojects\\ai_review\\venv\\lib\\site-packages\\sklearn\\neighbors\\_base.py\", line 680, in kneighbors\n",
      "    raise ValueError(\n",
      "ValueError: Expected n_neighbors <= n_samples,  but n_samples = 72, n_neighbors = 77\n",
      "\n",
      "  warnings.warn(\n",
      "c:\\users\\wkdgy\\pycharmprojects\\ai_review\\venv\\lib\\site-packages\\sklearn\\model_selection\\_validation.py:696: UserWarning: Scoring failed. The score on this train-test partition for these parameters will be set to nan. Details: \n",
      "Traceback (most recent call last):\n",
      "  File \"c:\\users\\wkdgy\\pycharmprojects\\ai_review\\venv\\lib\\site-packages\\sklearn\\model_selection\\_validation.py\", line 687, in _score\n",
      "    scores = scorer(estimator, X_test, y_test)\n",
      "  File \"c:\\users\\wkdgy\\pycharmprojects\\ai_review\\venv\\lib\\site-packages\\sklearn\\metrics\\_scorer.py\", line 87, in __call__\n",
      "    score = scorer._score(cached_call, estimator,\n",
      "  File \"c:\\users\\wkdgy\\pycharmprojects\\ai_review\\venv\\lib\\site-packages\\sklearn\\metrics\\_scorer.py\", line 236, in _score\n",
      "    y_pred = method_caller(estimator, \"predict\", X)\n",
      "  File \"c:\\users\\wkdgy\\pycharmprojects\\ai_review\\venv\\lib\\site-packages\\sklearn\\metrics\\_scorer.py\", line 53, in _cached_call\n",
      "    return getattr(estimator, method)(*args, **kwargs)\n",
      "  File \"c:\\users\\wkdgy\\pycharmprojects\\ai_review\\venv\\lib\\site-packages\\sklearn\\neighbors\\_classification.py\", line 197, in predict\n",
      "    neigh_dist, neigh_ind = self.kneighbors(X)\n",
      "  File \"c:\\users\\wkdgy\\pycharmprojects\\ai_review\\venv\\lib\\site-packages\\sklearn\\neighbors\\_base.py\", line 680, in kneighbors\n",
      "    raise ValueError(\n",
      "ValueError: Expected n_neighbors <= n_samples,  but n_samples = 72, n_neighbors = 77\n",
      "\n",
      "  warnings.warn(\n",
      "c:\\users\\wkdgy\\pycharmprojects\\ai_review\\venv\\lib\\site-packages\\sklearn\\model_selection\\_validation.py:696: UserWarning: Scoring failed. The score on this train-test partition for these parameters will be set to nan. Details: \n",
      "Traceback (most recent call last):\n",
      "  File \"c:\\users\\wkdgy\\pycharmprojects\\ai_review\\venv\\lib\\site-packages\\sklearn\\model_selection\\_validation.py\", line 687, in _score\n",
      "    scores = scorer(estimator, X_test, y_test)\n",
      "  File \"c:\\users\\wkdgy\\pycharmprojects\\ai_review\\venv\\lib\\site-packages\\sklearn\\metrics\\_scorer.py\", line 87, in __call__\n",
      "    score = scorer._score(cached_call, estimator,\n",
      "  File \"c:\\users\\wkdgy\\pycharmprojects\\ai_review\\venv\\lib\\site-packages\\sklearn\\metrics\\_scorer.py\", line 236, in _score\n",
      "    y_pred = method_caller(estimator, \"predict\", X)\n",
      "  File \"c:\\users\\wkdgy\\pycharmprojects\\ai_review\\venv\\lib\\site-packages\\sklearn\\metrics\\_scorer.py\", line 53, in _cached_call\n",
      "    return getattr(estimator, method)(*args, **kwargs)\n",
      "  File \"c:\\users\\wkdgy\\pycharmprojects\\ai_review\\venv\\lib\\site-packages\\sklearn\\neighbors\\_classification.py\", line 197, in predict\n",
      "    neigh_dist, neigh_ind = self.kneighbors(X)\n",
      "  File \"c:\\users\\wkdgy\\pycharmprojects\\ai_review\\venv\\lib\\site-packages\\sklearn\\neighbors\\_base.py\", line 680, in kneighbors\n",
      "    raise ValueError(\n",
      "ValueError: Expected n_neighbors <= n_samples,  but n_samples = 72, n_neighbors = 77\n",
      "\n",
      "  warnings.warn(\n",
      "c:\\users\\wkdgy\\pycharmprojects\\ai_review\\venv\\lib\\site-packages\\sklearn\\model_selection\\_validation.py:696: UserWarning: Scoring failed. The score on this train-test partition for these parameters will be set to nan. Details: \n",
      "Traceback (most recent call last):\n",
      "  File \"c:\\users\\wkdgy\\pycharmprojects\\ai_review\\venv\\lib\\site-packages\\sklearn\\model_selection\\_validation.py\", line 687, in _score\n",
      "    scores = scorer(estimator, X_test, y_test)\n",
      "  File \"c:\\users\\wkdgy\\pycharmprojects\\ai_review\\venv\\lib\\site-packages\\sklearn\\metrics\\_scorer.py\", line 87, in __call__\n",
      "    score = scorer._score(cached_call, estimator,\n",
      "  File \"c:\\users\\wkdgy\\pycharmprojects\\ai_review\\venv\\lib\\site-packages\\sklearn\\metrics\\_scorer.py\", line 236, in _score\n",
      "    y_pred = method_caller(estimator, \"predict\", X)\n",
      "  File \"c:\\users\\wkdgy\\pycharmprojects\\ai_review\\venv\\lib\\site-packages\\sklearn\\metrics\\_scorer.py\", line 53, in _cached_call\n",
      "    return getattr(estimator, method)(*args, **kwargs)\n",
      "  File \"c:\\users\\wkdgy\\pycharmprojects\\ai_review\\venv\\lib\\site-packages\\sklearn\\neighbors\\_classification.py\", line 197, in predict\n",
      "    neigh_dist, neigh_ind = self.kneighbors(X)\n",
      "  File \"c:\\users\\wkdgy\\pycharmprojects\\ai_review\\venv\\lib\\site-packages\\sklearn\\neighbors\\_base.py\", line 680, in kneighbors\n",
      "    raise ValueError(\n",
      "ValueError: Expected n_neighbors <= n_samples,  but n_samples = 72, n_neighbors = 77\n",
      "\n",
      "  warnings.warn(\n",
      "c:\\users\\wkdgy\\pycharmprojects\\ai_review\\venv\\lib\\site-packages\\sklearn\\model_selection\\_validation.py:696: UserWarning: Scoring failed. The score on this train-test partition for these parameters will be set to nan. Details: \n",
      "Traceback (most recent call last):\n",
      "  File \"c:\\users\\wkdgy\\pycharmprojects\\ai_review\\venv\\lib\\site-packages\\sklearn\\model_selection\\_validation.py\", line 687, in _score\n",
      "    scores = scorer(estimator, X_test, y_test)\n",
      "  File \"c:\\users\\wkdgy\\pycharmprojects\\ai_review\\venv\\lib\\site-packages\\sklearn\\metrics\\_scorer.py\", line 87, in __call__\n",
      "    score = scorer._score(cached_call, estimator,\n",
      "  File \"c:\\users\\wkdgy\\pycharmprojects\\ai_review\\venv\\lib\\site-packages\\sklearn\\metrics\\_scorer.py\", line 236, in _score\n",
      "    y_pred = method_caller(estimator, \"predict\", X)\n",
      "  File \"c:\\users\\wkdgy\\pycharmprojects\\ai_review\\venv\\lib\\site-packages\\sklearn\\metrics\\_scorer.py\", line 53, in _cached_call\n",
      "    return getattr(estimator, method)(*args, **kwargs)\n",
      "  File \"c:\\users\\wkdgy\\pycharmprojects\\ai_review\\venv\\lib\\site-packages\\sklearn\\neighbors\\_classification.py\", line 197, in predict\n",
      "    neigh_dist, neigh_ind = self.kneighbors(X)\n",
      "  File \"c:\\users\\wkdgy\\pycharmprojects\\ai_review\\venv\\lib\\site-packages\\sklearn\\neighbors\\_base.py\", line 680, in kneighbors\n",
      "    raise ValueError(\n",
      "ValueError: Expected n_neighbors <= n_samples,  but n_samples = 72, n_neighbors = 77\n",
      "\n",
      "  warnings.warn(\n",
      "c:\\users\\wkdgy\\pycharmprojects\\ai_review\\venv\\lib\\site-packages\\sklearn\\model_selection\\_validation.py:696: UserWarning: Scoring failed. The score on this train-test partition for these parameters will be set to nan. Details: \n",
      "Traceback (most recent call last):\n",
      "  File \"c:\\users\\wkdgy\\pycharmprojects\\ai_review\\venv\\lib\\site-packages\\sklearn\\model_selection\\_validation.py\", line 687, in _score\n",
      "    scores = scorer(estimator, X_test, y_test)\n",
      "  File \"c:\\users\\wkdgy\\pycharmprojects\\ai_review\\venv\\lib\\site-packages\\sklearn\\metrics\\_scorer.py\", line 87, in __call__\n",
      "    score = scorer._score(cached_call, estimator,\n",
      "  File \"c:\\users\\wkdgy\\pycharmprojects\\ai_review\\venv\\lib\\site-packages\\sklearn\\metrics\\_scorer.py\", line 236, in _score\n",
      "    y_pred = method_caller(estimator, \"predict\", X)\n",
      "  File \"c:\\users\\wkdgy\\pycharmprojects\\ai_review\\venv\\lib\\site-packages\\sklearn\\metrics\\_scorer.py\", line 53, in _cached_call\n",
      "    return getattr(estimator, method)(*args, **kwargs)\n",
      "  File \"c:\\users\\wkdgy\\pycharmprojects\\ai_review\\venv\\lib\\site-packages\\sklearn\\neighbors\\_classification.py\", line 197, in predict\n",
      "    neigh_dist, neigh_ind = self.kneighbors(X)\n",
      "  File \"c:\\users\\wkdgy\\pycharmprojects\\ai_review\\venv\\lib\\site-packages\\sklearn\\neighbors\\_base.py\", line 680, in kneighbors\n",
      "    raise ValueError(\n",
      "ValueError: Expected n_neighbors <= n_samples,  but n_samples = 72, n_neighbors = 79\n",
      "\n",
      "  warnings.warn(\n",
      "c:\\users\\wkdgy\\pycharmprojects\\ai_review\\venv\\lib\\site-packages\\sklearn\\model_selection\\_validation.py:696: UserWarning: Scoring failed. The score on this train-test partition for these parameters will be set to nan. Details: \n",
      "Traceback (most recent call last):\n",
      "  File \"c:\\users\\wkdgy\\pycharmprojects\\ai_review\\venv\\lib\\site-packages\\sklearn\\model_selection\\_validation.py\", line 687, in _score\n",
      "    scores = scorer(estimator, X_test, y_test)\n",
      "  File \"c:\\users\\wkdgy\\pycharmprojects\\ai_review\\venv\\lib\\site-packages\\sklearn\\metrics\\_scorer.py\", line 87, in __call__\n",
      "    score = scorer._score(cached_call, estimator,\n",
      "  File \"c:\\users\\wkdgy\\pycharmprojects\\ai_review\\venv\\lib\\site-packages\\sklearn\\metrics\\_scorer.py\", line 236, in _score\n",
      "    y_pred = method_caller(estimator, \"predict\", X)\n",
      "  File \"c:\\users\\wkdgy\\pycharmprojects\\ai_review\\venv\\lib\\site-packages\\sklearn\\metrics\\_scorer.py\", line 53, in _cached_call\n",
      "    return getattr(estimator, method)(*args, **kwargs)\n",
      "  File \"c:\\users\\wkdgy\\pycharmprojects\\ai_review\\venv\\lib\\site-packages\\sklearn\\neighbors\\_classification.py\", line 197, in predict\n",
      "    neigh_dist, neigh_ind = self.kneighbors(X)\n",
      "  File \"c:\\users\\wkdgy\\pycharmprojects\\ai_review\\venv\\lib\\site-packages\\sklearn\\neighbors\\_base.py\", line 680, in kneighbors\n",
      "    raise ValueError(\n",
      "ValueError: Expected n_neighbors <= n_samples,  but n_samples = 72, n_neighbors = 79\n",
      "\n",
      "  warnings.warn(\n",
      "c:\\users\\wkdgy\\pycharmprojects\\ai_review\\venv\\lib\\site-packages\\sklearn\\model_selection\\_validation.py:696: UserWarning: Scoring failed. The score on this train-test partition for these parameters will be set to nan. Details: \n",
      "Traceback (most recent call last):\n",
      "  File \"c:\\users\\wkdgy\\pycharmprojects\\ai_review\\venv\\lib\\site-packages\\sklearn\\model_selection\\_validation.py\", line 687, in _score\n",
      "    scores = scorer(estimator, X_test, y_test)\n",
      "  File \"c:\\users\\wkdgy\\pycharmprojects\\ai_review\\venv\\lib\\site-packages\\sklearn\\metrics\\_scorer.py\", line 87, in __call__\n",
      "    score = scorer._score(cached_call, estimator,\n",
      "  File \"c:\\users\\wkdgy\\pycharmprojects\\ai_review\\venv\\lib\\site-packages\\sklearn\\metrics\\_scorer.py\", line 236, in _score\n",
      "    y_pred = method_caller(estimator, \"predict\", X)\n",
      "  File \"c:\\users\\wkdgy\\pycharmprojects\\ai_review\\venv\\lib\\site-packages\\sklearn\\metrics\\_scorer.py\", line 53, in _cached_call\n",
      "    return getattr(estimator, method)(*args, **kwargs)\n",
      "  File \"c:\\users\\wkdgy\\pycharmprojects\\ai_review\\venv\\lib\\site-packages\\sklearn\\neighbors\\_classification.py\", line 197, in predict\n",
      "    neigh_dist, neigh_ind = self.kneighbors(X)\n",
      "  File \"c:\\users\\wkdgy\\pycharmprojects\\ai_review\\venv\\lib\\site-packages\\sklearn\\neighbors\\_base.py\", line 680, in kneighbors\n",
      "    raise ValueError(\n",
      "ValueError: Expected n_neighbors <= n_samples,  but n_samples = 72, n_neighbors = 79\n",
      "\n",
      "  warnings.warn(\n",
      "c:\\users\\wkdgy\\pycharmprojects\\ai_review\\venv\\lib\\site-packages\\sklearn\\model_selection\\_validation.py:696: UserWarning: Scoring failed. The score on this train-test partition for these parameters will be set to nan. Details: \n",
      "Traceback (most recent call last):\n",
      "  File \"c:\\users\\wkdgy\\pycharmprojects\\ai_review\\venv\\lib\\site-packages\\sklearn\\model_selection\\_validation.py\", line 687, in _score\n",
      "    scores = scorer(estimator, X_test, y_test)\n",
      "  File \"c:\\users\\wkdgy\\pycharmprojects\\ai_review\\venv\\lib\\site-packages\\sklearn\\metrics\\_scorer.py\", line 87, in __call__\n",
      "    score = scorer._score(cached_call, estimator,\n",
      "  File \"c:\\users\\wkdgy\\pycharmprojects\\ai_review\\venv\\lib\\site-packages\\sklearn\\metrics\\_scorer.py\", line 236, in _score\n",
      "    y_pred = method_caller(estimator, \"predict\", X)\n",
      "  File \"c:\\users\\wkdgy\\pycharmprojects\\ai_review\\venv\\lib\\site-packages\\sklearn\\metrics\\_scorer.py\", line 53, in _cached_call\n",
      "    return getattr(estimator, method)(*args, **kwargs)\n",
      "  File \"c:\\users\\wkdgy\\pycharmprojects\\ai_review\\venv\\lib\\site-packages\\sklearn\\neighbors\\_classification.py\", line 197, in predict\n",
      "    neigh_dist, neigh_ind = self.kneighbors(X)\n",
      "  File \"c:\\users\\wkdgy\\pycharmprojects\\ai_review\\venv\\lib\\site-packages\\sklearn\\neighbors\\_base.py\", line 680, in kneighbors\n",
      "    raise ValueError(\n",
      "ValueError: Expected n_neighbors <= n_samples,  but n_samples = 72, n_neighbors = 79\n",
      "\n",
      "  warnings.warn(\n",
      "c:\\users\\wkdgy\\pycharmprojects\\ai_review\\venv\\lib\\site-packages\\sklearn\\model_selection\\_validation.py:696: UserWarning: Scoring failed. The score on this train-test partition for these parameters will be set to nan. Details: \n",
      "Traceback (most recent call last):\n",
      "  File \"c:\\users\\wkdgy\\pycharmprojects\\ai_review\\venv\\lib\\site-packages\\sklearn\\model_selection\\_validation.py\", line 687, in _score\n",
      "    scores = scorer(estimator, X_test, y_test)\n",
      "  File \"c:\\users\\wkdgy\\pycharmprojects\\ai_review\\venv\\lib\\site-packages\\sklearn\\metrics\\_scorer.py\", line 87, in __call__\n",
      "    score = scorer._score(cached_call, estimator,\n",
      "  File \"c:\\users\\wkdgy\\pycharmprojects\\ai_review\\venv\\lib\\site-packages\\sklearn\\metrics\\_scorer.py\", line 236, in _score\n",
      "    y_pred = method_caller(estimator, \"predict\", X)\n",
      "  File \"c:\\users\\wkdgy\\pycharmprojects\\ai_review\\venv\\lib\\site-packages\\sklearn\\metrics\\_scorer.py\", line 53, in _cached_call\n",
      "    return getattr(estimator, method)(*args, **kwargs)\n",
      "  File \"c:\\users\\wkdgy\\pycharmprojects\\ai_review\\venv\\lib\\site-packages\\sklearn\\neighbors\\_classification.py\", line 197, in predict\n",
      "    neigh_dist, neigh_ind = self.kneighbors(X)\n",
      "  File \"c:\\users\\wkdgy\\pycharmprojects\\ai_review\\venv\\lib\\site-packages\\sklearn\\neighbors\\_base.py\", line 680, in kneighbors\n",
      "    raise ValueError(\n",
      "ValueError: Expected n_neighbors <= n_samples,  but n_samples = 72, n_neighbors = 79\n",
      "\n",
      "  warnings.warn(\n",
      "c:\\users\\wkdgy\\pycharmprojects\\ai_review\\venv\\lib\\site-packages\\sklearn\\model_selection\\_validation.py:696: UserWarning: Scoring failed. The score on this train-test partition for these parameters will be set to nan. Details: \n",
      "Traceback (most recent call last):\n",
      "  File \"c:\\users\\wkdgy\\pycharmprojects\\ai_review\\venv\\lib\\site-packages\\sklearn\\model_selection\\_validation.py\", line 687, in _score\n",
      "    scores = scorer(estimator, X_test, y_test)\n",
      "  File \"c:\\users\\wkdgy\\pycharmprojects\\ai_review\\venv\\lib\\site-packages\\sklearn\\metrics\\_scorer.py\", line 87, in __call__\n",
      "    score = scorer._score(cached_call, estimator,\n",
      "  File \"c:\\users\\wkdgy\\pycharmprojects\\ai_review\\venv\\lib\\site-packages\\sklearn\\metrics\\_scorer.py\", line 236, in _score\n",
      "    y_pred = method_caller(estimator, \"predict\", X)\n",
      "  File \"c:\\users\\wkdgy\\pycharmprojects\\ai_review\\venv\\lib\\site-packages\\sklearn\\metrics\\_scorer.py\", line 53, in _cached_call\n",
      "    return getattr(estimator, method)(*args, **kwargs)\n",
      "  File \"c:\\users\\wkdgy\\pycharmprojects\\ai_review\\venv\\lib\\site-packages\\sklearn\\neighbors\\_classification.py\", line 197, in predict\n",
      "    neigh_dist, neigh_ind = self.kneighbors(X)\n",
      "  File \"c:\\users\\wkdgy\\pycharmprojects\\ai_review\\venv\\lib\\site-packages\\sklearn\\neighbors\\_base.py\", line 680, in kneighbors\n",
      "    raise ValueError(\n",
      "ValueError: Expected n_neighbors <= n_samples,  but n_samples = 72, n_neighbors = 79\n",
      "\n",
      "  warnings.warn(\n",
      "c:\\users\\wkdgy\\pycharmprojects\\ai_review\\venv\\lib\\site-packages\\sklearn\\model_selection\\_validation.py:696: UserWarning: Scoring failed. The score on this train-test partition for these parameters will be set to nan. Details: \n",
      "Traceback (most recent call last):\n",
      "  File \"c:\\users\\wkdgy\\pycharmprojects\\ai_review\\venv\\lib\\site-packages\\sklearn\\model_selection\\_validation.py\", line 687, in _score\n",
      "    scores = scorer(estimator, X_test, y_test)\n",
      "  File \"c:\\users\\wkdgy\\pycharmprojects\\ai_review\\venv\\lib\\site-packages\\sklearn\\metrics\\_scorer.py\", line 87, in __call__\n",
      "    score = scorer._score(cached_call, estimator,\n",
      "  File \"c:\\users\\wkdgy\\pycharmprojects\\ai_review\\venv\\lib\\site-packages\\sklearn\\metrics\\_scorer.py\", line 236, in _score\n",
      "    y_pred = method_caller(estimator, \"predict\", X)\n",
      "  File \"c:\\users\\wkdgy\\pycharmprojects\\ai_review\\venv\\lib\\site-packages\\sklearn\\metrics\\_scorer.py\", line 53, in _cached_call\n",
      "    return getattr(estimator, method)(*args, **kwargs)\n",
      "  File \"c:\\users\\wkdgy\\pycharmprojects\\ai_review\\venv\\lib\\site-packages\\sklearn\\neighbors\\_classification.py\", line 197, in predict\n",
      "    neigh_dist, neigh_ind = self.kneighbors(X)\n",
      "  File \"c:\\users\\wkdgy\\pycharmprojects\\ai_review\\venv\\lib\\site-packages\\sklearn\\neighbors\\_base.py\", line 680, in kneighbors\n",
      "    raise ValueError(\n",
      "ValueError: Expected n_neighbors <= n_samples,  but n_samples = 72, n_neighbors = 79\n",
      "\n",
      "  warnings.warn(\n",
      "c:\\users\\wkdgy\\pycharmprojects\\ai_review\\venv\\lib\\site-packages\\sklearn\\model_selection\\_validation.py:696: UserWarning: Scoring failed. The score on this train-test partition for these parameters will be set to nan. Details: \n",
      "Traceback (most recent call last):\n",
      "  File \"c:\\users\\wkdgy\\pycharmprojects\\ai_review\\venv\\lib\\site-packages\\sklearn\\model_selection\\_validation.py\", line 687, in _score\n",
      "    scores = scorer(estimator, X_test, y_test)\n",
      "  File \"c:\\users\\wkdgy\\pycharmprojects\\ai_review\\venv\\lib\\site-packages\\sklearn\\metrics\\_scorer.py\", line 87, in __call__\n",
      "    score = scorer._score(cached_call, estimator,\n",
      "  File \"c:\\users\\wkdgy\\pycharmprojects\\ai_review\\venv\\lib\\site-packages\\sklearn\\metrics\\_scorer.py\", line 236, in _score\n",
      "    y_pred = method_caller(estimator, \"predict\", X)\n",
      "  File \"c:\\users\\wkdgy\\pycharmprojects\\ai_review\\venv\\lib\\site-packages\\sklearn\\metrics\\_scorer.py\", line 53, in _cached_call\n",
      "    return getattr(estimator, method)(*args, **kwargs)\n",
      "  File \"c:\\users\\wkdgy\\pycharmprojects\\ai_review\\venv\\lib\\site-packages\\sklearn\\neighbors\\_classification.py\", line 197, in predict\n",
      "    neigh_dist, neigh_ind = self.kneighbors(X)\n",
      "  File \"c:\\users\\wkdgy\\pycharmprojects\\ai_review\\venv\\lib\\site-packages\\sklearn\\neighbors\\_base.py\", line 680, in kneighbors\n",
      "    raise ValueError(\n",
      "ValueError: Expected n_neighbors <= n_samples,  but n_samples = 72, n_neighbors = 79\n",
      "\n",
      "  warnings.warn(\n",
      "c:\\users\\wkdgy\\pycharmprojects\\ai_review\\venv\\lib\\site-packages\\sklearn\\model_selection\\_validation.py:696: UserWarning: Scoring failed. The score on this train-test partition for these parameters will be set to nan. Details: \n",
      "Traceback (most recent call last):\n",
      "  File \"c:\\users\\wkdgy\\pycharmprojects\\ai_review\\venv\\lib\\site-packages\\sklearn\\model_selection\\_validation.py\", line 687, in _score\n",
      "    scores = scorer(estimator, X_test, y_test)\n",
      "  File \"c:\\users\\wkdgy\\pycharmprojects\\ai_review\\venv\\lib\\site-packages\\sklearn\\metrics\\_scorer.py\", line 87, in __call__\n",
      "    score = scorer._score(cached_call, estimator,\n",
      "  File \"c:\\users\\wkdgy\\pycharmprojects\\ai_review\\venv\\lib\\site-packages\\sklearn\\metrics\\_scorer.py\", line 236, in _score\n",
      "    y_pred = method_caller(estimator, \"predict\", X)\n",
      "  File \"c:\\users\\wkdgy\\pycharmprojects\\ai_review\\venv\\lib\\site-packages\\sklearn\\metrics\\_scorer.py\", line 53, in _cached_call\n",
      "    return getattr(estimator, method)(*args, **kwargs)\n",
      "  File \"c:\\users\\wkdgy\\pycharmprojects\\ai_review\\venv\\lib\\site-packages\\sklearn\\neighbors\\_classification.py\", line 197, in predict\n",
      "    neigh_dist, neigh_ind = self.kneighbors(X)\n",
      "  File \"c:\\users\\wkdgy\\pycharmprojects\\ai_review\\venv\\lib\\site-packages\\sklearn\\neighbors\\_base.py\", line 680, in kneighbors\n",
      "    raise ValueError(\n",
      "ValueError: Expected n_neighbors <= n_samples,  but n_samples = 72, n_neighbors = 79\n",
      "\n",
      "  warnings.warn(\n",
      "c:\\users\\wkdgy\\pycharmprojects\\ai_review\\venv\\lib\\site-packages\\sklearn\\model_selection\\_validation.py:696: UserWarning: Scoring failed. The score on this train-test partition for these parameters will be set to nan. Details: \n",
      "Traceback (most recent call last):\n",
      "  File \"c:\\users\\wkdgy\\pycharmprojects\\ai_review\\venv\\lib\\site-packages\\sklearn\\model_selection\\_validation.py\", line 687, in _score\n",
      "    scores = scorer(estimator, X_test, y_test)\n",
      "  File \"c:\\users\\wkdgy\\pycharmprojects\\ai_review\\venv\\lib\\site-packages\\sklearn\\metrics\\_scorer.py\", line 87, in __call__\n",
      "    score = scorer._score(cached_call, estimator,\n",
      "  File \"c:\\users\\wkdgy\\pycharmprojects\\ai_review\\venv\\lib\\site-packages\\sklearn\\metrics\\_scorer.py\", line 236, in _score\n",
      "    y_pred = method_caller(estimator, \"predict\", X)\n",
      "  File \"c:\\users\\wkdgy\\pycharmprojects\\ai_review\\venv\\lib\\site-packages\\sklearn\\metrics\\_scorer.py\", line 53, in _cached_call\n",
      "    return getattr(estimator, method)(*args, **kwargs)\n",
      "  File \"c:\\users\\wkdgy\\pycharmprojects\\ai_review\\venv\\lib\\site-packages\\sklearn\\neighbors\\_classification.py\", line 197, in predict\n",
      "    neigh_dist, neigh_ind = self.kneighbors(X)\n",
      "  File \"c:\\users\\wkdgy\\pycharmprojects\\ai_review\\venv\\lib\\site-packages\\sklearn\\neighbors\\_base.py\", line 680, in kneighbors\n",
      "    raise ValueError(\n",
      "ValueError: Expected n_neighbors <= n_samples,  but n_samples = 72, n_neighbors = 79\n",
      "\n",
      "  warnings.warn(\n"
     ]
    }
   ],
   "source": [
    "for k in k_list:\n",
    "    knn = KNeighborsClassifier(n_neighbors=k)\n",
    "    scores = cross_val_score(knn, x_train, y_train.values.ravel(), cv=10, scoring='accuracy')\n",
    "\n",
    "    cross_validation_scores.append(scores.mean())\n",
    "print(cross_validation_scores)"
   ],
   "metadata": {
    "collapsed": false,
    "pycharm": {
     "name": "#%%\n"
    }
   }
  },
  {
   "cell_type": "code",
   "execution_count": 22,
   "outputs": [
    {
     "ename": "ValueError",
     "evalue": "x and y must have same first dimension, but have shapes (39,) and (117,)",
     "output_type": "error",
     "traceback": [
      "\u001B[1;31m---------------------------------------------------------------------------\u001B[0m",
      "\u001B[1;31mValueError\u001B[0m                                Traceback (most recent call last)",
      "\u001B[1;32m~\\AppData\\Local\\Temp/ipykernel_3572/3258962970.py\u001B[0m in \u001B[0;36m<module>\u001B[1;34m\u001B[0m\n\u001B[1;32m----> 1\u001B[1;33m \u001B[0mplt\u001B[0m\u001B[1;33m.\u001B[0m\u001B[0mplot\u001B[0m\u001B[1;33m(\u001B[0m\u001B[0mk_list\u001B[0m\u001B[1;33m,\u001B[0m \u001B[0mcross_validation_scores\u001B[0m\u001B[1;33m)\u001B[0m\u001B[1;33m\u001B[0m\u001B[1;33m\u001B[0m\u001B[0m\n\u001B[0m\u001B[0;32m      2\u001B[0m \u001B[0mplt\u001B[0m\u001B[1;33m.\u001B[0m\u001B[0mxlabel\u001B[0m\u001B[1;33m(\u001B[0m\u001B[1;34m'the number of K'\u001B[0m\u001B[1;33m)\u001B[0m\u001B[1;33m\u001B[0m\u001B[1;33m\u001B[0m\u001B[0m\n\u001B[0;32m      3\u001B[0m \u001B[0mplt\u001B[0m\u001B[1;33m.\u001B[0m\u001B[0mylabel\u001B[0m\u001B[1;33m(\u001B[0m\u001B[1;34m'Accuracy'\u001B[0m\u001B[1;33m)\u001B[0m\u001B[1;33m\u001B[0m\u001B[1;33m\u001B[0m\u001B[0m\n\u001B[0;32m      4\u001B[0m \u001B[0mplt\u001B[0m\u001B[1;33m.\u001B[0m\u001B[0mshow\u001B[0m\u001B[1;33m(\u001B[0m\u001B[1;33m)\u001B[0m\u001B[1;33m\u001B[0m\u001B[1;33m\u001B[0m\u001B[0m\n",
      "\u001B[1;32mc:\\users\\wkdgy\\pycharmprojects\\ai_review\\venv\\lib\\site-packages\\matplotlib\\pyplot.py\u001B[0m in \u001B[0;36mplot\u001B[1;34m(scalex, scaley, data, *args, **kwargs)\u001B[0m\n\u001B[0;32m   3017\u001B[0m \u001B[1;33m@\u001B[0m\u001B[0m_copy_docstring_and_deprecators\u001B[0m\u001B[1;33m(\u001B[0m\u001B[0mAxes\u001B[0m\u001B[1;33m.\u001B[0m\u001B[0mplot\u001B[0m\u001B[1;33m)\u001B[0m\u001B[1;33m\u001B[0m\u001B[1;33m\u001B[0m\u001B[0m\n\u001B[0;32m   3018\u001B[0m \u001B[1;32mdef\u001B[0m \u001B[0mplot\u001B[0m\u001B[1;33m(\u001B[0m\u001B[1;33m*\u001B[0m\u001B[0margs\u001B[0m\u001B[1;33m,\u001B[0m \u001B[0mscalex\u001B[0m\u001B[1;33m=\u001B[0m\u001B[1;32mTrue\u001B[0m\u001B[1;33m,\u001B[0m \u001B[0mscaley\u001B[0m\u001B[1;33m=\u001B[0m\u001B[1;32mTrue\u001B[0m\u001B[1;33m,\u001B[0m \u001B[0mdata\u001B[0m\u001B[1;33m=\u001B[0m\u001B[1;32mNone\u001B[0m\u001B[1;33m,\u001B[0m \u001B[1;33m**\u001B[0m\u001B[0mkwargs\u001B[0m\u001B[1;33m)\u001B[0m\u001B[1;33m:\u001B[0m\u001B[1;33m\u001B[0m\u001B[1;33m\u001B[0m\u001B[0m\n\u001B[1;32m-> 3019\u001B[1;33m     return gca().plot(\n\u001B[0m\u001B[0;32m   3020\u001B[0m         \u001B[1;33m*\u001B[0m\u001B[0margs\u001B[0m\u001B[1;33m,\u001B[0m \u001B[0mscalex\u001B[0m\u001B[1;33m=\u001B[0m\u001B[0mscalex\u001B[0m\u001B[1;33m,\u001B[0m \u001B[0mscaley\u001B[0m\u001B[1;33m=\u001B[0m\u001B[0mscaley\u001B[0m\u001B[1;33m,\u001B[0m\u001B[1;33m\u001B[0m\u001B[1;33m\u001B[0m\u001B[0m\n\u001B[0;32m   3021\u001B[0m         **({\"data\": data} if data is not None else {}), **kwargs)\n",
      "\u001B[1;32mc:\\users\\wkdgy\\pycharmprojects\\ai_review\\venv\\lib\\site-packages\\matplotlib\\axes\\_axes.py\u001B[0m in \u001B[0;36mplot\u001B[1;34m(self, scalex, scaley, data, *args, **kwargs)\u001B[0m\n\u001B[0;32m   1603\u001B[0m         \"\"\"\n\u001B[0;32m   1604\u001B[0m         \u001B[0mkwargs\u001B[0m \u001B[1;33m=\u001B[0m \u001B[0mcbook\u001B[0m\u001B[1;33m.\u001B[0m\u001B[0mnormalize_kwargs\u001B[0m\u001B[1;33m(\u001B[0m\u001B[0mkwargs\u001B[0m\u001B[1;33m,\u001B[0m \u001B[0mmlines\u001B[0m\u001B[1;33m.\u001B[0m\u001B[0mLine2D\u001B[0m\u001B[1;33m)\u001B[0m\u001B[1;33m\u001B[0m\u001B[1;33m\u001B[0m\u001B[0m\n\u001B[1;32m-> 1605\u001B[1;33m         \u001B[0mlines\u001B[0m \u001B[1;33m=\u001B[0m \u001B[1;33m[\u001B[0m\u001B[1;33m*\u001B[0m\u001B[0mself\u001B[0m\u001B[1;33m.\u001B[0m\u001B[0m_get_lines\u001B[0m\u001B[1;33m(\u001B[0m\u001B[1;33m*\u001B[0m\u001B[0margs\u001B[0m\u001B[1;33m,\u001B[0m \u001B[0mdata\u001B[0m\u001B[1;33m=\u001B[0m\u001B[0mdata\u001B[0m\u001B[1;33m,\u001B[0m \u001B[1;33m**\u001B[0m\u001B[0mkwargs\u001B[0m\u001B[1;33m)\u001B[0m\u001B[1;33m]\u001B[0m\u001B[1;33m\u001B[0m\u001B[1;33m\u001B[0m\u001B[0m\n\u001B[0m\u001B[0;32m   1606\u001B[0m         \u001B[1;32mfor\u001B[0m \u001B[0mline\u001B[0m \u001B[1;32min\u001B[0m \u001B[0mlines\u001B[0m\u001B[1;33m:\u001B[0m\u001B[1;33m\u001B[0m\u001B[1;33m\u001B[0m\u001B[0m\n\u001B[0;32m   1607\u001B[0m             \u001B[0mself\u001B[0m\u001B[1;33m.\u001B[0m\u001B[0madd_line\u001B[0m\u001B[1;33m(\u001B[0m\u001B[0mline\u001B[0m\u001B[1;33m)\u001B[0m\u001B[1;33m\u001B[0m\u001B[1;33m\u001B[0m\u001B[0m\n",
      "\u001B[1;32mc:\\users\\wkdgy\\pycharmprojects\\ai_review\\venv\\lib\\site-packages\\matplotlib\\axes\\_base.py\u001B[0m in \u001B[0;36m__call__\u001B[1;34m(self, data, *args, **kwargs)\u001B[0m\n\u001B[0;32m    313\u001B[0m                 \u001B[0mthis\u001B[0m \u001B[1;33m+=\u001B[0m \u001B[0margs\u001B[0m\u001B[1;33m[\u001B[0m\u001B[1;36m0\u001B[0m\u001B[1;33m]\u001B[0m\u001B[1;33m,\u001B[0m\u001B[1;33m\u001B[0m\u001B[1;33m\u001B[0m\u001B[0m\n\u001B[0;32m    314\u001B[0m                 \u001B[0margs\u001B[0m \u001B[1;33m=\u001B[0m \u001B[0margs\u001B[0m\u001B[1;33m[\u001B[0m\u001B[1;36m1\u001B[0m\u001B[1;33m:\u001B[0m\u001B[1;33m]\u001B[0m\u001B[1;33m\u001B[0m\u001B[1;33m\u001B[0m\u001B[0m\n\u001B[1;32m--> 315\u001B[1;33m             \u001B[1;32myield\u001B[0m \u001B[1;32mfrom\u001B[0m \u001B[0mself\u001B[0m\u001B[1;33m.\u001B[0m\u001B[0m_plot_args\u001B[0m\u001B[1;33m(\u001B[0m\u001B[0mthis\u001B[0m\u001B[1;33m,\u001B[0m \u001B[0mkwargs\u001B[0m\u001B[1;33m)\u001B[0m\u001B[1;33m\u001B[0m\u001B[1;33m\u001B[0m\u001B[0m\n\u001B[0m\u001B[0;32m    316\u001B[0m \u001B[1;33m\u001B[0m\u001B[0m\n\u001B[0;32m    317\u001B[0m     \u001B[1;32mdef\u001B[0m \u001B[0mget_next_color\u001B[0m\u001B[1;33m(\u001B[0m\u001B[0mself\u001B[0m\u001B[1;33m)\u001B[0m\u001B[1;33m:\u001B[0m\u001B[1;33m\u001B[0m\u001B[1;33m\u001B[0m\u001B[0m\n",
      "\u001B[1;32mc:\\users\\wkdgy\\pycharmprojects\\ai_review\\venv\\lib\\site-packages\\matplotlib\\axes\\_base.py\u001B[0m in \u001B[0;36m_plot_args\u001B[1;34m(self, tup, kwargs, return_kwargs)\u001B[0m\n\u001B[0;32m    499\u001B[0m \u001B[1;33m\u001B[0m\u001B[0m\n\u001B[0;32m    500\u001B[0m         \u001B[1;32mif\u001B[0m \u001B[0mx\u001B[0m\u001B[1;33m.\u001B[0m\u001B[0mshape\u001B[0m\u001B[1;33m[\u001B[0m\u001B[1;36m0\u001B[0m\u001B[1;33m]\u001B[0m \u001B[1;33m!=\u001B[0m \u001B[0my\u001B[0m\u001B[1;33m.\u001B[0m\u001B[0mshape\u001B[0m\u001B[1;33m[\u001B[0m\u001B[1;36m0\u001B[0m\u001B[1;33m]\u001B[0m\u001B[1;33m:\u001B[0m\u001B[1;33m\u001B[0m\u001B[1;33m\u001B[0m\u001B[0m\n\u001B[1;32m--> 501\u001B[1;33m             raise ValueError(f\"x and y must have same first dimension, but \"\n\u001B[0m\u001B[0;32m    502\u001B[0m                              f\"have shapes {x.shape} and {y.shape}\")\n\u001B[0;32m    503\u001B[0m         \u001B[1;32mif\u001B[0m \u001B[0mx\u001B[0m\u001B[1;33m.\u001B[0m\u001B[0mndim\u001B[0m \u001B[1;33m>\u001B[0m \u001B[1;36m2\u001B[0m \u001B[1;32mor\u001B[0m \u001B[0my\u001B[0m\u001B[1;33m.\u001B[0m\u001B[0mndim\u001B[0m \u001B[1;33m>\u001B[0m \u001B[1;36m2\u001B[0m\u001B[1;33m:\u001B[0m\u001B[1;33m\u001B[0m\u001B[1;33m\u001B[0m\u001B[0m\n",
      "\u001B[1;31mValueError\u001B[0m: x and y must have same first dimension, but have shapes (39,) and (117,)"
     ]
    },
    {
     "data": {
      "text/plain": "<Figure size 432x288 with 1 Axes>",
      "image/png": "[encoded data removed]"
     },
     "metadata": {
      "needs_background": "light"
     },
     "output_type": "display_data"
    }
   ],
   "source": [
    "plt.plot(k_list, cross_validation_scores)\n",
    "plt.xlabel('the number of K')\n",
    "plt.ylabel('Accuracy')\n",
    "plt.show()"
   ],
   "metadata": {
    "collapsed": false,
    "pycharm": {
     "name": "#%%\n"
    }
   }
  },
  {
   "cell_type": "code",
   "execution_count": 21,
   "outputs": [
    {
     "name": "stdout",
     "output_type": "stream",
     "text": [
      "11\n"
     ]
    }
   ],
   "source": [
    "k = k_list[cross_validation_scores.index(max(cross_validation_scores))]\n",
    "print(k)"
   ],
   "metadata": {
    "collapsed": false,
    "pycharm": {
     "name": "#%%\n"
    }
   }
  },
  {
   "cell_type": "code",
   "execution_count": 39,
   "outputs": [
    {
     "name": "stdout",
     "output_type": "stream",
     "text": [
      "0.95\n"
     ]
    }
   ],
   "source": [
    "knn = KNeighborsClassifier(n_neighbors=3)\n",
    "\n",
    "x_train = train[['3P', 'BLK', 'TRB']]\n",
    "y_train = train[['Pos']]\n",
    "\n",
    "knn.fit(x_train, y_train.values.ravel())\n",
    "\n",
    "x_test = test[['3P','BLK', 'TRB']]\n",
    "y_test = test[['Pos']]\n",
    "\n",
    "pred = knn.predict(x_test)\n",
    "\n",
    "from sklearn.metrics import accuracy_score\n",
    "print(accuracy_score(y_test.values.ravel(), pred))"
   ],
   "metadata": {
    "collapsed": false,
    "pycharm": {
     "name": "#%%\n"
    }
   }
  },
  {
   "cell_type": "code",
   "execution_count": 25,
   "outputs": [],
   "source": [],
   "metadata": {
    "collapsed": false,
    "pycharm": {
     "name": "#%%\n"
    }
   }
  },
  {
   "cell_type": "code",
   "execution_count": 44,
   "outputs": [
    {
     "name": "stderr",
     "output_type": "stream",
     "text": [
      "c:\\users\\wkdgy\\pycharmprojects\\ai_review\\venv\\lib\\site-packages\\seaborn\\_decorators.py:36: FutureWarning: Pass the following variables as keyword args: x, y. From version 0.12, the only valid positional argument will be `data`, and passing other arguments without an explicit keyword will result in an error or misinterpretation.\n",
      "  warnings.warn(\n"
     ]
    },
    {
     "data": {
      "text/plain": "Text(0.5, 1.0, 'BLK vs 3P')"
     },
     "execution_count": 44,
     "metadata": {},
     "output_type": "execute_result"
    },
    {
     "data": {
      "text/plain": "<Figure size 410x360 with 1 Axes>",
      "image/png": "[encoded data removed]"
     },
     "metadata": {
      "needs_background": "light"
     },
     "output_type": "display_data"
    }
   ],
   "source": [
    "sns.lmplot('BLK', '3P', data=df, fit_reg=False, scatter_kws={\"s\":150}, markers=[\"o\",\"x\"], hue=\"Pos\")\n",
    "plt.title(\"BLK vs 3P\")"
   ],
   "metadata": {
    "collapsed": false,
    "pycharm": {
     "name": "#%%\n"
    }
   }
  },
  {
   "cell_type": "code",
   "execution_count": 45,
   "outputs": [
    {
     "name": "stderr",
     "output_type": "stream",
     "text": [
      "c:\\users\\wkdgy\\pycharmprojects\\ai_review\\venv\\lib\\site-packages\\seaborn\\_decorators.py:36: FutureWarning: Pass the following variables as keyword args: x, y. From version 0.12, the only valid positional argument will be `data`, and passing other arguments without an explicit keyword will result in an error or misinterpretation.\n",
      "  warnings.warn(\n"
     ]
    },
    {
     "data": {
      "text/plain": "Text(0.5, 1.0, 'BLK vs TRB')"
     },
     "execution_count": 45,
     "metadata": {},
     "output_type": "execute_result"
    },
    {
     "data": {
      "text/plain": "<Figure size 410x360 with 1 Axes>",
      "image/png": "[encoded data removed]"
     },
     "metadata": {
      "needs_background": "light"
     },
     "output_type": "display_data"
    }
   ],
   "source": [
    "sns.lmplot('BLK', 'TRB', data=df, fit_reg=False, scatter_kws={\"s\":150}, markers=[\"o\",\"x\"], hue=\"Pos\")\n",
    "plt.title(\"BLK vs TRB\")"
   ],
   "metadata": {
    "collapsed": false,
    "pycharm": {
     "name": "#%%\n"
    }
   }
  },
  {
   "cell_type": "markdown",
   "source": [
    "# Linear Regression"
   ],
   "metadata": {
    "collapsed": false,
    "pycharm": {
     "name": "#%% md\n"
    }
   }
  },
  {
   "cell_type": "code",
   "execution_count": 46,
   "outputs": [
    {
     "data": {
      "text/plain": "<Figure size 432x288 with 1 Axes>",
      "image/png": "[encoded data removed]"
     },
     "metadata": {
      "needs_background": "light"
     },
     "output_type": "display_data"
    }
   ],
   "source": [
    "from sklearn.linear_model import LinearRegression\n",
    "\n",
    "line_fitter = LinearRegression()\n",
    "X = df['BLK']\n",
    "y = df['TRB']\n",
    "plt.plot(X, y, 'o')\n",
    "plt.show()"
   ],
   "metadata": {
    "collapsed": false,
    "pycharm": {
     "name": "#%%\n"
    }
   }
  },
  {
   "cell_type": "code",
   "execution_count": 47,
   "outputs": [
    {
     "data": {
      "text/plain": "LinearRegression()"
     },
     "execution_count": 47,
     "metadata": {},
     "output_type": "execute_result"
    }
   ],
   "source": [
    "line_fitter.fit(X.values.reshape(-1, 1), y)"
   ],
   "metadata": {
    "collapsed": false,
    "pycharm": {
     "name": "#%%\n"
    }
   }
  },
  {
   "cell_type": "code",
   "execution_count": 49,
   "outputs": [
    {
     "data": {
      "text/plain": "array([6.51459544])"
     },
     "execution_count": 49,
     "metadata": {},
     "output_type": "execute_result"
    }
   ],
   "source": [
    "line_fitter.predict([[1.1]])"
   ],
   "metadata": {
    "collapsed": false,
    "pycharm": {
     "name": "#%%\n"
    }
   }
  },
  {
   "cell_type": "code",
   "execution_count": 50,
   "outputs": [
    {
     "data": {
      "text/plain": "array([3.67474119])"
     },
     "execution_count": 50,
     "metadata": {},
     "output_type": "execute_result"
    }
   ],
   "source": [
    "line_fitter.coef_"
   ],
   "metadata": {
    "collapsed": false,
    "pycharm": {
     "name": "#%%\n"
    }
   }
  },
  {
   "cell_type": "code",
   "execution_count": 51,
   "outputs": [
    {
     "data": {
      "text/plain": "2.472380130766436"
     },
     "execution_count": 51,
     "metadata": {},
     "output_type": "execute_result"
    }
   ],
   "source": [
    "line_fitter.intercept_"
   ],
   "metadata": {
    "collapsed": false,
    "pycharm": {
     "name": "#%%\n"
    }
   }
  },
  {
   "cell_type": "code",
   "execution_count": 52,
   "outputs": [
    {
     "data": {
      "text/plain": "<Figure size 432x288 with 1 Axes>",
      "image/png": "[encoded data removed]"
     },
     "metadata": {
      "needs_background": "light"
     },
     "output_type": "display_data"
    }
   ],
   "source": [
    "plt.plot(X,y,'o')\n",
    "plt.plot(X, line_fitter.predict(X.values.reshape(-1,1)))\n",
    "plt.show()"
   ],
   "metadata": {
    "collapsed": false,
    "pycharm": {
     "name": "#%%\n"
    }
   }
  },
  {
   "cell_type": "markdown",
   "source": [
    "# 우리팀 해야하는거\n",
    "1. 왜 정규화 과정 안 거쳤는지 설명\n",
    "2. linear_regression 외 다른 거 고려 안 한 이유? -> 역으로 왜 kNN 선택했는지?\n",
    "3. 무엇을 보여줄지?\n",
    "* 예상에는 시각화 해서 어떤 관계인지 설명\n"
   ],
   "metadata": {
    "collapsed": false,
    "pycharm": {
     "name": "#%% md\n"
    }
   }
  },
  {
   "cell_type": "code",
   "execution_count": null,
   "outputs": [],
   "source": [],
   "metadata": {
    "collapsed": false,
    "pycharm": {
     "name": "#%%\n"
    }
   }
  }
 ],
 "metadata": {
  "kernelspec": {
   "display_name": "Python 3",
   "language": "python",
   "name": "python3"
  },
  "language_info": {
   "codemirror_mode": {
    "name": "ipython",
    "version": 2
   },
   "file_extension": ".py",
   "mimetype": "text/x-python",
   "name": "python",
   "nbconvert_exporter": "python",
   "pygments_lexer": "ipython2",
   "version": "2.7.6"
  }
 },
 "nbformat": 4,
 "nbformat_minor": 0
}